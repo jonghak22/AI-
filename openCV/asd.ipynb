{
 "cells": [
  {
   "cell_type": "code",
   "execution_count": 2,
   "metadata": {},
   "outputs": [
    {
     "data": {
      "text/html": [
       "<style>div.container { width:100% !important; }</style>"
      ],
      "text/plain": [
       "<IPython.core.display.HTML object>"
      ]
     },
     "metadata": {},
     "output_type": "display_data"
    }
   ],
   "source": [
    "from IPython.display import display, HTML\n",
    "display(HTML(\"<style>div.container { width:100% !important; }</style>\"))\n"
   ]
  },
  {
   "cell_type": "markdown",
   "metadata": {},
   "source": [
    "# 1라인 그리기"
   ]
  },
  {
   "cell_type": "code",
   "execution_count": 4,
   "metadata": {},
   "outputs": [],
   "source": [
    "import cv2\n",
    "import numpy as np\n",
    "\n",
    "img = np.full((250,250,3),255,dtype=np.uint8)\n",
    "\n",
    "cv2.line(img,(50,10),(200,10),(255,0,0,),1)\n",
    "cv2.line(img,(50,60),(200,60),(0,255,0,),2)\n",
    "cv2.line(img,(50,110),(200,110),(0,0,255,),3)\n",
    "cv2.line(img,(50,160),(200,160),(0,0,0,),4)\n",
    "cv2.line(img,(50,210),(200,210),(255,0,255,),5)\n",
    "\n",
    "cv2.imshow('Lines',img)\n",
    "cv2.waitKey(0)\n",
    "cv2.destroyAllWindows()"
   ]
  },
  {
   "cell_type": "markdown",
   "metadata": {},
   "source": [
    "# 2사각형 그리기"
   ]
  },
  {
   "cell_type": "code",
   "execution_count": 7,
   "metadata": {},
   "outputs": [],
   "source": [
    "import cv2\n",
    "import numpy as np\n",
    "\n",
    "img = np.full((250,250,3),255,dtype=np.uint8)\n",
    "\n",
    "cv2.rectangle(img,(50,10),(200,50),(255,0,0,))\n",
    "cv2.rectangle(img,(50,60),(200,100),(255,0,0),5)\n",
    "cv2.rectangle(img,(50,110),(200,150),(255,0,0),-1)\n",
    "cv2.rectangle(img,(50,160),(200,200),(255,0,0),-1)\n",
    "cv2.rectangle(img,(50,160),(200,200),(0,0,255,),5)\n",
    "\n",
    "cv2.imshow('rectangle',img)\n",
    "cv2.waitKey(0)\n",
    "cv2.destroyAllWindows()"
   ]
  },
  {
   "cell_type": "markdown",
   "metadata": {},
   "source": [
    "# 3 원그리기\n"
   ]
  },
  {
   "cell_type": "code",
   "execution_count": 9,
   "metadata": {},
   "outputs": [],
   "source": [
    "import cv2\n",
    "import numpy as np\n",
    "\n",
    "img = np.full((250,250,3),255,dtype=np.uint8)\n",
    "\n",
    "cv2.circle(img,(50,50),50,(255,0,0,))\n",
    "cv2.circle(img,(100,100),50,(ㅠ0,255,0),-1)\n",
    "\n",
    "cv2.circle(img,(100,100),100,(0,0,255),5)\n",
    "cv2.circle(img,(200,200),50,(0,0,0),5)\n",
    "\n",
    "cv2.imshow('circle',img)\n",
    "cv2.waitKey(0)\n",
    "cv2.destroyAllWindows()"
   ]
  },
  {
   "cell_type": "markdown",
   "metadata": {},
   "source": [
    "# 타원과 호 그리기\n"
   ]
  },
  {
   "cell_type": "code",
   "execution_count": 12,
   "metadata": {},
   "outputs": [],
   "source": [
    "import cv2\n",
    "import numpy as np\n",
    "\n",
    "img = np.full((250,250,3),255,dtype=np.uint8)\n",
    "\n",
    "cv2.ellipse(img,(60,60),(50,30),-30,0,360,(255,0,0,),2)\n",
    "cv2.ellipse(img,(160,60),(50,30),0,0,360,(0,0,255),-1)\n",
    "cv2.ellipse(img,(60,160),(50,30),30,0,180,(255,0,0),2)\n",
    "cv2.ellipse(img,(160,160),(50,30),90,0,180,(0,0,255),-1)\n",
    "cv2.ellipse(img,(160,160),(50,30),90,180,360,(255,0,0),-1)\n",
    "\n",
    "cv2.imshow('ellipse',img)\n",
    "cv2.waitKey(0)\n",
    "cv2.destroyAllWindows()"
   ]
  },
  {
   "cell_type": "markdown",
   "metadata": {},
   "source": [
    "# 다각형 그리기\n"
   ]
  },
  {
   "cell_type": "code",
   "execution_count": 14,
   "metadata": {},
   "outputs": [],
   "source": [
    "import cv2\n",
    "import numpy as np\n",
    "\n",
    "img = np.full((250,250,3),255,dtype=np.uint8)\n",
    "points = np.array([[[60,60],[100,10],[200,60],[150,100],[100,100]]],dtype = np.int32)\n",
    "\n",
    "cv2.polylines(img,points,True,(255,0,0,),5)\n",
    "cv2.polylines(img,points+[0,100],False,(0,0,255),10)\n",
    "\n",
    "\n",
    "cv2.imshow('polylines',img)\n",
    "cv2.waitKey(0)\n",
    "cv2.destroyAllWindows()"
   ]
  },
  {
   "cell_type": "markdown",
   "metadata": {},
   "source": [
    "# 문자열 표기하기"
   ]
  },
  {
   "cell_type": "code",
   "execution_count": 16,
   "metadata": {},
   "outputs": [],
   "source": [
    "import cv2\n",
    "import numpy as np\n",
    "\n",
    "img = np.full((250,250,3),255,dtype=np.uint8)\n",
    "\n",
    "cv2.putText(img,\"Hello python\",(10,50),\n",
    "            cv2.FONT_ITALIC,1,(255,0,0))\n",
    "cv2.putText(img,\"Hello python\",(10,80), \n",
    "            cv2.FONT_ITALIC,0.5,(0,0,255))\n",
    "cv2.putText(img,\"Hello python\",(10,150),\n",
    "            cv2.FONT_HERSHEY_DUPLEX,2,(0,0,0))\n",
    "cv2.putText(img,\"Hello python\",(10,200),\n",
    "            cv2.FONT_HERSHEY_TRIPLEX,1,(0,0,0))\n",
    "\n",
    "\n",
    "cv2.imshow('Text',img)\n",
    "cv2.waitKey(0)\n",
    "cv2.destroyAllWindows()"
   ]
  }
 ],
 "metadata": {
  "kernelspec": {
   "display_name": "Python 3.10.7 64-bit",
   "language": "python",
   "name": "python3"
  },
  "language_info": {
   "codemirror_mode": {
    "name": "ipython",
    "version": 3
   },
   "file_extension": ".py",
   "mimetype": "text/x-python",
   "name": "python",
   "nbconvert_exporter": "python",
   "pygments_lexer": "ipython3",
   "version": "3.10.7"
  },
  "orig_nbformat": 4,
  "vscode": {
   "interpreter": {
    "hash": "e191b7f8a7ade697261a80d73a4145313c00cd250ab8fbf5731ef43dc12a84bd"
   }
  }
 },
 "nbformat": 4,
 "nbformat_minor": 2
}
