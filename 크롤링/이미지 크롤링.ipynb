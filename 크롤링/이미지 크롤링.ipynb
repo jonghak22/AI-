{
 "cells": [
  {
   "cell_type": "code",
   "execution_count": 1,
   "id": "4add9356",
   "metadata": {},
   "outputs": [],
   "source": [
    "RESTAPI_key = ''"
   ]
  },
  {
   "cell_type": "code",
   "execution_count": 2,
   "id": "eb3d0a2b",
   "metadata": {},
   "outputs": [],
   "source": [
    "headers = {\n",
    "    'Authorization' : ''\n",
    "}\n",
    "import requests\n",
    "import json"
   ]
  },
  {
   "cell_type": "code",
   "execution_count": 3,
   "id": "83284e09",
   "metadata": {},
   "outputs": [],
   "source": [
    "# 파일 읽고 쓰기\n",
    "data = '크롤링 이미지 모으기'\n",
    "with open('test.txt', 'w') as fp:\n",
    "    fp.write(data)"
   ]
  },
  {
   "cell_type": "code",
   "execution_count": 4,
   "id": "c611a3f2",
   "metadata": {},
   "outputs": [
    {
     "name": "stdout",
     "output_type": "stream",
     "text": [
      "파일 읽기 결과\n",
      "연예인 사진 모으기 프로젝트\n"
     ]
    }
   ],
   "source": [
    "# 파일 읽기\n",
    "with open('test.txt', 'r') as fp:\n",
    "    print('파일 읽기 결과')\n",
    "    print(fp.read())"
   ]
  },
  {
   "cell_type": "code",
   "execution_count": 5,
   "id": "37ecba21",
   "metadata": {},
   "outputs": [],
   "source": [
    "# 이미지 파일 저장하기\n",
    "def save_image(image_url, file_name):\n",
    "    img_response = requests.get(image_url)\n",
    "    # 요청에 성공 헀다면\n",
    "    if img_response.status_code == 200:\n",
    "        # 파일에 저장\n",
    "        with open(file_name, 'wb') as fp:\n",
    "            fp.write(img_response.content)"
   ]
  },
  {
   "cell_type": "code",
   "execution_count": 6,
   "id": "78bbad82",
   "metadata": {},
   "outputs": [],
   "source": [
    "def func1():\n",
    "    import requests\n",
    "    import json\n",
    "    def save_image(image_url, file_name):\n",
    "        \n",
    "        img_response = requests.get(image_url)\n",
    "        # 요청에 성공 헀다면\n",
    "        if img_response.status_code == 200:\n",
    "            # 파일에 저장\n",
    "            with open(file_name, 'wb') as fp:\n",
    "                fp.write(img_response.content)\n",
    "    headers = {\n",
    "    'Authorization' : ''\n",
    "    }\n",
    "    serch, imgname = input('검색어 : ')\n",
    "    pages = int(input('크롤링 할 페이지 수: '))\n",
    "    count = 0\n",
    "\n",
    "    for i in range(1,pages+1):\n",
    "        url = \"\"\n",
    "        headers = {\n",
    "            ''\n",
    "        }\n",
    "\n",
    "        data = {\n",
    "            'query' : '{0}'.format(serch),\n",
    "            'page' : '{0}'.format(i)\n",
    "        }\n",
    "\n",
    "\n",
    "        # 이미지 검색 요청\n",
    "        response = requests.post(url, headers=headers, data=data)\n",
    "        if response.status_code != 200:\n",
    "            print('=========[ERROR]========== !  because', response.json())\n",
    "        else: #  성공했다면\n",
    "            for image_info in response.json()['documents']:\n",
    "                print(f'[{count} th] image_url =  ', image_info['image_url'])\n",
    "                # 저장될 이미지 파일명 설정\n",
    "                count = count + 1 \n",
    "                file_name = './'+ imgname +'/{0}{1}.jpg'.format(serch,count)\n",
    "        \n",
    "                # 이미지 저장\n",
    "                save_image(image_info['image_url'], file_name)\n",
    "        count += 1"
   ]
  },
  {
   "cell_type": "code",
   "execution_count": 7,
   "id": "a11f5f62",
   "metadata": {},
   "outputs": [
    {
     "name": "stdout",
     "output_type": "stream",
     "text": [
      "검색어 : 벤츠\n",
      "크롤링 할 페이지 수: 1\n",
      "[0 th] image_url =   https://t1.daumcdn.net/news/201712/13/seouleconomy/20171213174415193noru.jpg\n",
      "[1 th] image_url =   http://cfile8.uf.tistory.com/image/991E6B3359C0B94E1754C9\n",
      "[2 th] image_url =   https://t1.daumcdn.net/news/201905/14/etimesi/20190514145505044ghup.jpg\n",
      "[3 th] image_url =   http://imgauto.naver.com/20130928_77/auto_1380297021230jVemY_PNG/20130928005019_nO3i5gAh.png\n",
      "[4 th] image_url =   http://imgauto.naver.com/20130914_115/auto_13791479770993E6QO_PNG/20130914173839_xrrAh3XN.png\n",
      "[5 th] image_url =   https://t1.daumcdn.net/news/201906/03/etimesi/20190603160107360fdtw.jpg\n",
      "[6 th] image_url =   http://t1.daumcdn.net/encyclop/m41/nXOxptnYHtTssqW7sceGhjMdA2R5YJFonyQZYbs6\n",
      "[7 th] image_url =   https://img3.daumcdn.net/thumb/R658x0.q70/?fname=https://t1.daumcdn.net/news/202210/03/mk/20221003162406797oltj.jpg\n",
      "[8 th] image_url =   https://t1.daumcdn.net/news/202109/16/ilgansports/20210916070141005wuql.jpg\n",
      "[9 th] image_url =   https://t1.daumcdn.net/news/202101/12/hankooki/20210112222107755gkev.jpg\n",
      "[10 th] image_url =   http://cfile25.uf.tistory.com/image/99078F33598FA89E0E1CA9\n",
      "[11 th] image_url =   http://imgauto.naver.com/20140718_27/auto_1405645630989TYRLh_PNG/20140718100629_PNFMit6O.png\n",
      "[12 th] image_url =   https://k.kakaocdn.net/dn/qFpwq/btrIptSDDyw/delhcss7Tvc0rclK1fWCpK/img.webp\n",
      "[13 th] image_url =   http://img.etnews.com/news/article/2019/09/04/cms_temp_article_04080843536684.jpg\n",
      "[14 th] image_url =   https://t1.daumcdn.net/news/202102/12/mk/20210212060017862eydd.jpg\n",
      "[15 th] image_url =   http://t1.daumcdn.net/cfile/tistory/99A85D3359E5536127\n",
      "[16 th] image_url =   https://www.motorgraph.com/news/photo/201912/24477_77286_4647.jpg\n",
      "[17 th] image_url =   https://t1.daumcdn.net/news/202003/23/autotimes/20200323080007606ggdh.jpg\n",
      "[18 th] image_url =   https://encrypted-tbn0.gstatic.com/images?q=tbn:ANd9GcTMjoyvr-EOWBXc-gC63A4pABOxWsjsJZYibgd24hF6ULSAnMKvO-4SHaGArBrY_Tpcm9A&usqp=CAU\n",
      "[19 th] image_url =   http://www.insightkorea.co.kr/news/photo/201812/32762_25524_3353.jpg\n",
      "[20 th] image_url =   https://t1.daumcdn.net/news/201807/04/etimesi/20180704162203980dral.jpg\n",
      "[21 th] image_url =   https://file1.bobaedream.co.kr/national/2020/09/03/12/yunu1599103354_500891228.jpg\n",
      "[22 th] image_url =   http://t1.daumcdn.net/news/201602/29/hankooki/20160229212618915gxcw.jpg\n",
      "[23 th] image_url =   http://file.mk.co.kr/mas/magazine/img/1393481274.jpg\n",
      "[24 th] image_url =   https://k.kakaocdn.net/dn/1b7Cf/btrApm2D8ZN/orz23i4iHVkKsJKJDDNMLK/img.webp\n",
      "[25 th] image_url =   https://k.kakaocdn.net/dn/czwcNH/btrFjxEj3KG/MI97VIKp1QNGHuduyMz5c0/img.webp\n",
      "[26 th] image_url =   https://k.kakaocdn.net/dn/cBu4Y4/btrJrfFIvpM/SPb72kwOULYJOEkezDDs61/img.webp\n",
      "[27 th] image_url =   http://www.viva100.com/mnt/images/file/2016y/11m/25d/2016112501001724600077501.jpg\n",
      "[28 th] image_url =   https://t1.daumcdn.net/news/202206/29/moneytoday/20220629105440474vjey.jpg\n",
      "[29 th] image_url =   http://t1.daumcdn.net/news/201706/01/akn/20170601060011456quun.jpg\n",
      "[30 th] image_url =   https://t1.daumcdn.net/news/202210/27/dailian/20221027134052878hizx.jpg\n",
      "[31 th] image_url =   https://k.kakaocdn.net/dn/dJI37e/btrGsnUTWrs/R4CSKKj3jnHSqJNWk9Dsz0/img.webp\n",
      "[32 th] image_url =   https://t1.daumcdn.net/news/201807/09/segye/20180709030839221nzcw.jpg\n",
      "[33 th] image_url =   http://t1.daumcdn.net/news/201509/15/mk/20150915175003037bwia.jpg\n",
      "[34 th] image_url =   https://t1.daumcdn.net/news/202210/23/etimesi/20221023150110137wmvk.jpg\n",
      "[35 th] image_url =   https://t1.daumcdn.net/news/201709/14/kukinews/20170914181504337xtho.jpg\n",
      "[36 th] image_url =   http://t1.daumcdn.net/news/201704/06/joongang/20170406140055670kbsl.jpg\n",
      "[37 th] image_url =   https://t1.daumcdn.net/news/201806/07/nocut/20180607154506269qvkq.jpg\n",
      "[38 th] image_url =   http://t1.daumcdn.net/encyclop/m41/PaioZY4h9ZQxKm73J4uPewITw8R6R5CVhV6724TK\n",
      "[39 th] image_url =   https://k.kakaocdn.net/dn/boM7CT/btrFXY2zcU9/bSjRThflKVlBw6ux9YVZvK/img.webp\n",
      "[40 th] image_url =   https://t1.daumcdn.net/news/202010/21/akn/20201021115239170mddk.jpg\n",
      "[41 th] image_url =   https://k.kakaocdn.net/dn/sA0DV/btrJCoQEnP3/okzMJjXmXNsxNyDSu8qdRK/img.webp\n",
      "[42 th] image_url =   http://img.etnews.com/news/rpm9/201002/5621_10425_228.jpg\n",
      "[43 th] image_url =   https://t1.daumcdn.net/news/202112/20/SpoChosun/20211220162342612ysjg.jpg\n",
      "[44 th] image_url =   http://img.etnews.com/photonews/1602/770728_20160204122941_381_0001.jpg\n",
      "[45 th] image_url =   https://t1.daumcdn.net/news/202005/15/poctan/20200515153459808nhqt.jpg\n",
      "[46 th] image_url =   http://t1.daumcdn.net/news/201610/24/yonhap/20161024105825296mfpq.jpg\n",
      "[47 th] image_url =   https://k.kakaocdn.net/dn/qeb0P/btrKOiaFDnZ/grJxGTmwO7uFvs8sw9XiYk/img.jpg\n",
      "[48 th] image_url =   https://t1.daumcdn.net/news/202110/08/seouleconomy/20211008091845065jnzg.jpg\n",
      "[49 th] image_url =   http://ncc.phinf.naver.net/20140106_203/1388972170629gwtAs_JPEG/PC140069-2.jpg?type=w646\n",
      "[50 th] image_url =   https://t1.daumcdn.net/news/201905/07/fnnewsi/20190507171437781zsxx.jpg\n",
      "[51 th] image_url =   http://t1.daumcdn.net/news/201611/22/akn/20161122103155646wgdl.jpg\n",
      "[52 th] image_url =   https://k.kakaocdn.net/dn/lhNTK/btrMEtA08zo/mW3Z1V6wgVbZFx4VA5Khq0/img.webp\n",
      "[53 th] image_url =   http://t1.daumcdn.net/news/201603/29/etimesi/20160329135609003vmzm.jpg\n",
      "[54 th] image_url =   https://k.kakaocdn.net/dn/bOxdrX/btrJ8YZu1a6/a9T3vh1g2tL7vO16rjqYU1/img.webp\n",
      "[55 th] image_url =   https://t1.daumcdn.net/news/202005/29/hankooki/20200529155346789lbet.jpg\n",
      "[56 th] image_url =   https://k.kakaocdn.net/dn/b1j6bj/btrJRtrBv1E/YEHXoBNUfoP1oC9P6P1VU0/img.jpg\n",
      "[57 th] image_url =   https://t1.daumcdn.net/news/202011/30/chosunbiz/20201130103248758pnbi.png\n",
      "[58 th] image_url =   https://t1.daumcdn.net/news/202104/15/etimesi/20210415105519559jiym.jpg\n",
      "[59 th] image_url =   http://t1.daumcdn.net/news/201601/25/ZDNetKorea/20160125134556659ypjq.jpg\n",
      "[60 th] image_url =   https://k.kakaocdn.net/dn/UnRQv/btrLtLi62eT/zMWPrC06WV8kwxKBq7ECk0/img.webp\n",
      "[61 th] image_url =   https://t1.daumcdn.net/news/202106/10/joongang/20210610095424959ljuz.jpg\n",
      "[62 th] image_url =   https://t1.daumcdn.net/news/201810/15/mk/20181015115400412dlur.jpg\n",
      "[63 th] image_url =   https://t1.daumcdn.net/news/202107/08/etimesi/20210708162732626rzjp.jpg\n",
      "[64 th] image_url =   https://k.kakaocdn.net/dn/xoH6C/btrI6r2zpMY/RU3oKCkpck7Wpk7KzTawy1/img.webp\n",
      "[65 th] image_url =   http://static.hubzum.zumst.com/hubzum/2019/03/08/11/c9ecef38a6bd460496384eecfd48d23d.jpg\n",
      "[66 th] image_url =   https://t1.daumcdn.net/news/202203/07/ZDNetKorea/20220307094720772ifla.jpg\n",
      "[67 th] image_url =   https://t1.daumcdn.net/news/202112/01/nocut/20211201140011382qjun.jpg\n",
      "[68 th] image_url =   http://t1.daumcdn.net/news/201406/29/seouleconomy/20140629184309692.jpg\n",
      "[69 th] image_url =   https://k.kakaocdn.net/dn/FDU4U/btrJELSyOyK/w9Sakus0IDUaZX5rHWPKUK/img.webp\n",
      "[70 th] image_url =   https://t1.daumcdn.net/news/202204/06/moneyweek/20220406063022347fyik.jpg\n",
      "[71 th] image_url =   https://t1.daumcdn.net/news/202112/01/fnnewsi/20211201102255053jxfw.jpg\n",
      "[72 th] image_url =   https://t1.daumcdn.net/news/201807/04/etimesi/20180704162203716giom.jpg\n",
      "[73 th] image_url =   https://img2.daumcdn.net/thumb/R658x0.q70/?fname=https://t1.daumcdn.net/news/202005/20/dailycar/20200520094158889uszj.jpg\n",
      "[74 th] image_url =   http://t1.daumcdn.net/news/201605/27/kukinews/20160527144259999mkxe.jpg\n",
      "[75 th] image_url =   http://t1.daumcdn.net/news/201608/18/seouleconomy/20160818194658593qdew.jpg\n",
      "[76 th] image_url =   https://k.kakaocdn.net/dn/PWKLh/btrJm8BzujK/dCAVtNJS9zdmhh5yPpTm11/img.webp\n",
      "[77 th] image_url =   http://www.viva100.com/mnt/images/file/2016y/01m/04d/2016010401000139800005091.jpg\n",
      "[78 th] image_url =   https://t1.daumcdn.net/news/202001/13/seoul/20200113050738608aidn.jpg\n",
      "[79 th] image_url =   https://k.kakaocdn.net/dn/bo2SDx/btrdDxLXnGF/HYU7ohwFdrUvXRuKdUzmO1/img.jpg\n"
     ]
    }
   ],
   "source": [
    "func1()"
   ]
  },
  {
   "cell_type": "code",
   "execution_count": null,
   "id": "8287fbae",
   "metadata": {},
   "outputs": [],
   "source": []
  }
 ],
 "metadata": {
  "kernelspec": {
   "display_name": "Python 3 (ipykernel)",
   "language": "python",
   "name": "python3"
  },
  "language_info": {
   "codemirror_mode": {
    "name": "ipython",
    "version": 3
   },
   "file_extension": ".py",
   "mimetype": "text/x-python",
   "name": "python",
   "nbconvert_exporter": "python",
   "pygments_lexer": "ipython3",
   "version": "3.9.13"
  },
  "toc": {
   "base_numbering": 1,
   "nav_menu": {},
   "number_sections": true,
   "sideBar": true,
   "skip_h1_title": false,
   "title_cell": "Table of Contents",
   "title_sidebar": "Contents",
   "toc_cell": false,
   "toc_position": {},
   "toc_section_display": true,
   "toc_window_display": false
  },
  "varInspector": {
   "cols": {
    "lenName": 16,
    "lenType": 16,
    "lenVar": 40
   },
   "kernels_config": {
    "python": {
     "delete_cmd_postfix": "",
     "delete_cmd_prefix": "del ",
     "library": "var_list.py",
     "varRefreshCmd": "print(var_dic_list())"
    },
    "r": {
     "delete_cmd_postfix": ") ",
     "delete_cmd_prefix": "rm(",
     "library": "var_list.r",
     "varRefreshCmd": "cat(var_dic_list()) "
    }
   },
   "types_to_exclude": [
    "module",
    "function",
    "builtin_function_or_method",
    "instance",
    "_Feature"
   ],
   "window_display": false
  }
 },
 "nbformat": 4,
 "nbformat_minor": 5
}
