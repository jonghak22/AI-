{
 "cells": [
  {
   "cell_type": "code",
   "execution_count": 1,
   "id": "60843ab5",
   "metadata": {},
   "outputs": [],
   "source": [
    "from selenium import webdriver\n",
    "from selenium.webdriver.chrome.service import Service\n",
    "from webdriver_manager.chrome import ChromeDriverManager\n",
    "from selenium.webdriver.common.keys import Keys \n",
    "from selenium.webdriver.common.by import By \n",
    "import time \n",
    "import os \n",
    "import urllib.request \n",
    "from multiprocessing import Pool \n",
    "import pandas as pd "
   ]
  },
  {
   "cell_type": "code",
   "execution_count": 2,
   "id": "8222f3d8",
   "metadata": {},
   "outputs": [],
   "source": [
    "def set_chrome_driver():\n",
    "    chrome_options = webdriver.ChromeOptions()\n",
    "    chrome_options.add_experimental_option(\"excludeSwitches\", [\"enable-logging\"])\n",
    "    driver = webdriver.Chrome(service=Service(ChromeDriverManager().install()), options=chrome_options)\n",
    "    return driver"
   ]
  },
  {
   "cell_type": "code",
   "execution_count": 3,
   "id": "8107c470",
   "metadata": {},
   "outputs": [],
   "source": [
    "driver = set_chrome_driver()\n",
    "driver.implicitly_wait(3)"
   ]
  },
  {
   "cell_type": "code",
   "execution_count": 4,
   "id": "1a69128a",
   "metadata": {},
   "outputs": [],
   "source": [
    "driver.get('https://www.starbucks.co.kr/store/store_map.do?disp=locale')\n",
    "time.sleep(2)"
   ]
  },
  {
   "cell_type": "code",
   "execution_count": 5,
   "id": "6f2a309f",
   "metadata": {},
   "outputs": [],
   "source": [
    "loca = driver.find_element(By.CLASS_NAME, 'loca_search')\n",
    "loca.click()\n",
    "time.sleep(2)"
   ]
  },
  {
   "cell_type": "code",
   "execution_count": 6,
   "id": "94d12b5f",
   "metadata": {},
   "outputs": [],
   "source": [
    "sido = driver.find_element(By.CLASS_NAME, 'sido_arae_box')\n",
    "li = sido.find_elements(By.TAG_NAME, 'li')\n",
    "li[0].click()\n",
    "time.sleep(2)"
   ]
  },
  {
   "cell_type": "code",
   "execution_count": 7,
   "id": "b739373a",
   "metadata": {},
   "outputs": [],
   "source": [
    "gugun = driver.find_element(By.CLASS_NAME, 'gugun_arae_box')\n",
    "li = gugun.find_elements(By.TAG_NAME, 'li')\n",
    "li[1].click()\n",
    "time.sleep(2)"
   ]
  },
  {
   "cell_type": "code",
   "execution_count": 8,
   "id": "d90a7df7",
   "metadata": {},
   "outputs": [],
   "source": [
    "source=driver.page_source"
   ]
  },
  {
   "cell_type": "code",
   "execution_count": 9,
   "id": "95ff2adc",
   "metadata": {},
   "outputs": [],
   "source": [
    "from bs4 import BeautifulSoup"
   ]
  },
  {
   "cell_type": "code",
   "execution_count": 13,
   "id": "b56de0ab",
   "metadata": {},
   "outputs": [],
   "source": [
    "bs=BeautifulSoup(source, 'lxml')\n",
    "entire=bs.find('ul', class_='quickSearchResultBoxSidoGugun')\n",
    "starbucksGangnam_list = entire.find_all('li')"
   ]
  },
  {
   "cell_type": "code",
   "execution_count": 14,
   "id": "2a98328b",
   "metadata": {},
   "outputs": [
    {
     "name": "stdout",
     "output_type": "stream",
     "text": [
      "매장 수 :  88\n",
      "매장명 : 역삼이마트   매장 주소 : 서울특별시 강남구 역삼로 310 (역삼동)1522-3232\n",
      "매장명 : 삼성동   매장 주소 : 서울특별시 강남구 영동대로96길 12 (삼성동)1522-3232\n",
      "매장명 : 강남논현   매장 주소 : 서울특별시 강남구 강남대로 512 (논현동)1522-3232\n",
      "매장명 : 테헤란로아남타워   매장 주소 : 서울특별시 강남구 테헤란로 311 (역삼동)1522-3232\n",
      "매장명 : 삼성역   매장 주소 : 서울특별시 강남구 테헤란로 620 (대치동)1522-3232\n",
      "매장명 : 강남역신분당역사   매장 주소 : 서울특별시 강남구 강남대로 396 (역삼동)1522-3232\n",
      "매장명 : 대치삼성프라자   매장 주소 : 서울특별시 강남구 영동대로 237 (대치동)1522-3232\n",
      "매장명 : 강남세곡   매장 주소 : 서울특별시 강남구 헌릉로569길 18 (세곡동)1522-3232\n",
      "매장명 : 도산사거리   매장 주소 : 서울특별시 강남구 언주로 727 (논현동)1522-3232\n",
      "매장명 : 센터필드R   매장 주소 : 서울특별시 강남구 테헤란로 231 (역삼동)1522-3232\n",
      "매장명 : 코엑스아셈타워   매장 주소 : 서울특별시 강남구 영동대로 517 (삼성동)1522-3232\n",
      "매장명 : 수서역사거리   매장 주소 : 서울특별시 강남구 광평로 280 (수서동)1522-3232\n",
      "매장명 : 대치한티   매장 주소 : 서울특별시 강남구 선릉로 324 (대치동)1522-3232\n",
      "매장명 : 도산가로수길   매장 주소 : 서울특별시 강남구 도산대로 134, 2층 (논현동)1522-3232\n",
      "매장명 : 논현힐탑   매장 주소 : 서울특별시 강남구 논현로 648 (논현동)1522-3232\n",
      "매장명 : 선릉로   매장 주소 : 서울특별시 강남구 선릉로93길 22, 대흥빌딩 1층 (역삼동)1522-3232\n",
      "매장명 : 포스코   매장 주소 : 서울특별시 강남구 삼성로86길 7, 1층 (대치동)1522-3232\n",
      "매장명 : 르네상스사거리   매장 주소 : 서울특별시 강남구 테헤란로 306 (역삼동)1522-3232\n",
      "매장명 : 압구정로데오역   매장 주소 : 서울특별시 강남구 선릉로 836, 삼원빌딩 1,2층 (청담동)1522-3232\n",
      "매장명 : 역삼역   매장 주소 : 서울특별시 강남구 테헤란로 145, 우신빌딩 1층 (역삼동)1522-3232\n",
      "매장명 : 강남비젼타워   매장 주소 : 서울특별시 강남구 테헤란로2길 27, 1층 101호 (역삼동)1522-3232\n",
      "매장명 : 아크로힐스논현   매장 주소 : 서울특별시 강남구 봉은사로 304, 금강빌딩 1-2층 (역삼동)1522-3232\n",
      "매장명 : 신압구정   매장 주소 : 서울특별시 강남구 언주로174길 29 (신사동)1522-3232\n",
      "매장명 : 청담공원   매장 주소 : 서울특별시 강남구 학동로 506 (삼성동)1522-3232\n",
      "매장명 : 역삼럭키   매장 주소 : 서울특별시 강남구 도곡로 183 (역삼동)1522-3232\n",
      "매장명 : 코엑스사거리   매장 주소 : 서울특별시 강남구 영동대로 616 (삼성동)1522-3232\n",
      "매장명 : 선릉역   매장 주소 : 서울특별시 강남구 테헤란로 334, LG화재 빌딩 (역삼동)1522-3232\n",
      "매장명 : 압구정미소   매장 주소 : 서울특별시 강남구 논현로 841 (신사동)1522-3232\n",
      "매장명 : GS타워   매장 주소 : 서울특별시 강남구 논현로 508 (역삼동)1522-3232\n",
      "매장명 : 삼성현대힐   매장 주소 : 서울특별시 강남구 삼성로 605 (삼성동)1522-3232\n",
      "매장명 : 선정릉역   매장 주소 : 서울특별시 강남구 봉은사로 407 (삼성동) 에프오빌딩1522-3232\n",
      "매장명 : 학여울역   매장 주소 : 서울특별시 강남구 영동대로 215 (대치동)1522-3232\n",
      "매장명 : 아크플레이스   매장 주소 : 서울특별시 강남구 테헤란로 142 (역삼동)1522-3232\n",
      "매장명 : 포이   매장 주소 : 서울특별시 강남구 논현로 88 (개포동)1522-3232\n",
      "매장명 : 대치역   매장 주소 : 서울특별시 강남구 남부순환로 2936 (대치동) 107호1522-3232\n",
      "매장명 : 강남구청역   매장 주소 : 서울특별시 강남구 선릉로 669, 웰빙센터 1층 (논현동)1522-3232\n",
      "매장명 : 큰길타워   매장 주소 : 서울특별시 강남구 테헤란로 223, 큰길타워빌딩 (역삼동)1522-3232\n",
      "매장명 : 구역삼사거리   매장 주소 : 서울특별시 강남구 논현로 401 (역삼동)1522-3232\n",
      "매장명 : 압구정로   매장 주소 : 서울특별시 강남구 압구정로42길 32 (신사동)1522-3232\n",
      "매장명 : 압구정역   매장 주소 : 서울특별시 강남구 압구정로 170, 관영빌딩 1층 지하1층 (신사동)1522-3232\n",
      "매장명 : 선릉세화빌딩   매장 주소 : 서울특별시 강남구 테헤란로64길 18 (대치동) 1층1522-3232\n",
      "매장명 : 삼성   매장 주소 : 서울특별시 강남구 테헤란로 443, 애플트리타워 1층 (삼성동)1522-3232\n",
      "매장명 : SSG마켓도곡R   매장 주소 : 서울특별시 강남구 언주로30길 57, 타워팰리스Ⅱ F 지하1층 (도곡동)1522-3232\n",
      "매장명 : 대치   매장 주소 : 서울특별시 강남구 도곡로 511 (대치동)1522-3232\n",
      "매장명 : 학동역   매장 주소 : 서울특별시 강남구 논현로 704 (논현동)1522-3232\n",
      "매장명 : 삼성교   매장 주소 : 서울특별시 강남구 영동대로86길 12, 동남유화빌딩 1층1522-3232\n",
      "매장명 : 삼성도심공항   매장 주소 : 서울특별시 강남구 테헤란로87길 33 (삼성동)1522-3232\n",
      "매장명 : 청담   매장 주소 : 서울특별시 강남구 도산대로 532, 인희빌딩 1층 (청담동)1522-3232\n",
      "매장명 : 강남대로   매장 주소 : 서울특별시 강남구 강남대로 456, 한석타워 2층 1-2호 (역삼동)1522-3232\n",
      "매장명 : 역삼포스코   매장 주소 : 서울특별시 강남구 테헤란로 134, P&S TOWER (역삼동)1522-3232\n",
      "매장명 : 역삼대로   매장 주소 : 서울특별시 강남구 테헤란로 211, 한국고등교육재단빌딩 1층 (역삼동)1522-3232\n",
      "매장명 : 가로수길   매장 주소 : 서울특별시 강남구 논현로175길 94, 1~2층 (신사동)1522-3232\n",
      "매장명 : 코엑스몰   매장 주소 : 서울특별시 강남구 영동대로 513 (삼성동) O103호1522-3232\n",
      "매장명 : 역삼초교사거리   매장 주소 : 서울특별시 강남구 역삼로 123 (역삼동)1522-3232\n",
      "매장명 : 한티역   매장 주소 : 서울특별시 강남구 도곡로 408, 디마크빌딩 101호 (대치동)1522-3232\n",
      "매장명 : 청담사거리   매장 주소 : 서울특별시 강남구 도산대로 458 (청담동) 리츠타워1522-3232\n",
      "매장명 : 서울세관사거리   매장 주소 : 서울특별시 강남구 언주로 650 (논현동) 한국건설기술인협회1522-3232\n",
      "매장명 : 도곡역   매장 주소 : 서울특별시 강남구 남부순환로 2909 (대치동)1522-3232\n",
      "매장명 : 신사역   매장 주소 : 서울특별시 강남구 도산대로 108 (논현동) 렉스타워1522-3232\n",
      "매장명 : 을지병원사거리   매장 주소 : 서울특별시 강남구 논현로 752 (논현동,구산빌딩)1522-3232\n",
      "매장명 : 포스코사거리   매장 주소 : 서울특별시 강남구 테헤란로 505 (삼성동) 화진빌딩1522-3232\n",
      "매장명 : 대치사거리   매장 주소 : 서울특별시 강남구 삼성로 402 (대치동)1522-3232\n",
      "매장명 : 학동사거리   매장 주소 : 서울특별시 강남구 도산대로 328 (논현동)1522-3232\n",
      "매장명 : 강남우성   매장 주소 : 서울특별시 강남구 강남대로 328 (역삼동)1522-3232\n",
      "매장명 : 청담스타R   매장 주소 : 서울특별시 강남구 도산대로57길 24 (청담동)1522-3232\n",
      "매장명 : 신사가로수   매장 주소 : 서울특별시 강남구 가로수길 59 1522-3232\n",
      "매장명 : 압구정   매장 주소 : 서울특별시 강남구 압구정로30길 17 (신사동)1522-3232\n",
      "매장명 : 청담영동대로   매장 주소 : 서울특별시 강남구 영동대로 720 (청담동)1522-3232\n",
      "매장명 : 대치은마사거리   매장 주소 : 서울특별시 강남구 도곡로 457 (대치동)1522-3232\n",
      "매장명 : 강남R   매장 주소 : 서울특별시 강남구 강남대로 390 (역삼동)1522-3232\n",
      "매장명 : 도곡공원   매장 주소 : 서울특별시 강남구 도곡로 205 (역삼동)1522-3232\n",
      "매장명 : 강남구청정문   매장 주소 : 서울특별시 강남구 학동로 419 (청담동)1522-3232\n",
      "매장명 : 스타필드코엑스몰R   매장 주소 : 서울특별시 강남구 영동대로 513 (삼성동) 코엑스 A106호1522-3232\n",
      "매장명 : 강남오거리   매장 주소 : 서울특별시 강남구 봉은사로2길 39 (역삼동)1522-3232\n",
      "매장명 : 봉은사로선정릉   매장 주소 : 서울특별시 강남구 봉은사로 446 (삼성동)1522-3232\n",
      "매장명 : 선릉동신빌딩R   매장 주소 : 서울특별시 강남구 테헤란로 409 (삼성동)1522-3232\n",
      "매장명 : 양재강남빌딩R   매장 주소 : 서울특별시 강남구 남부순환로 2621 (도곡동)1522-3232\n",
      "매장명 : 수서역R   매장 주소 : 서울특별시 강남구 광평로 281 (수서동)1522-3232\n",
      "매장명 : 압구정R   매장 주소 : 서울특별시 강남구 언주로 861 (신사동)1522-3232\n",
      "매장명 : 삼성역섬유센터R   매장 주소 : 서울특별시 강남구 테헤란로 518 (대치동)1522-3232\n",
      "매장명 : 코엑스별마당   매장 주소 : 서울특별시 강남구 영동대로 513 (삼성동)1522-3232\n",
      "매장명 : 압구정윤성빌딩   매장 주소 : 서울특별시 강남구 논현로 834 (신사동)1522-3232\n",
      "매장명 : 봉은사역   매장 주소 : 서울특별시 강남구 봉은사로 619 (삼성동)1522-3232\n",
      "매장명 : 대치재경빌딩R   매장 주소 : 서울특별시 강남구 남부순환로 2947 (대치동)1522-3232\n",
      "매장명 : 국기원사거리   매장 주소 : 서울특별시 강남구 테헤란로 125 (역삼동)1522-3232\n",
      "매장명 : 신사역성일빌딩   매장 주소 : 서울특별시 강남구 강남대로 584 (논현동)1522-3232\n",
      "매장명 : 논현역사거리   매장 주소 : 서울특별시 강남구 강남대로 538 (논현동)1522-3232\n",
      "매장명 : 역삼아레나빌딩   매장 주소 : 서울특별시 강남구 언주로 425 (역삼동)1522-3232\n"
     ]
    }
   ],
   "source": [
    "print(\"매장 수 : \", len(starbucksGangnam_list))\n",
    "for stores in starbucksGangnam_list:\n",
    "    print(\"매장명 :\", stores.find('strong').text, \"매장 주소 :\" , stores.find('p').text)"
   ]
  },
  {
   "cell_type": "code",
   "execution_count": null,
   "id": "aa66d2c8",
   "metadata": {},
   "outputs": [],
   "source": []
  }
 ],
 "metadata": {
  "kernelspec": {
   "display_name": "Python 3 (ipykernel)",
   "language": "python",
   "name": "python3"
  },
  "language_info": {
   "codemirror_mode": {
    "name": "ipython",
    "version": 3
   },
   "file_extension": ".py",
   "mimetype": "text/x-python",
   "name": "python",
   "nbconvert_exporter": "python",
   "pygments_lexer": "ipython3",
   "version": "3.9.15"
  },
  "toc": {
   "base_numbering": 1,
   "nav_menu": {},
   "number_sections": true,
   "sideBar": true,
   "skip_h1_title": false,
   "title_cell": "Table of Contents",
   "title_sidebar": "Contents",
   "toc_cell": false,
   "toc_position": {},
   "toc_section_display": true,
   "toc_window_display": false
  },
  "varInspector": {
   "cols": {
    "lenName": 16,
    "lenType": 16,
    "lenVar": 40
   },
   "kernels_config": {
    "python": {
     "delete_cmd_postfix": "",
     "delete_cmd_prefix": "del ",
     "library": "var_list.py",
     "varRefreshCmd": "print(var_dic_list())"
    },
    "r": {
     "delete_cmd_postfix": ") ",
     "delete_cmd_prefix": "rm(",
     "library": "var_list.r",
     "varRefreshCmd": "cat(var_dic_list()) "
    }
   },
   "types_to_exclude": [
    "module",
    "function",
    "builtin_function_or_method",
    "instance",
    "_Feature"
   ],
   "window_display": false
  }
 },
 "nbformat": 4,
 "nbformat_minor": 5
}
