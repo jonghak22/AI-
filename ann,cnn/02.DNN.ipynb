{
 "cells": [
  {
   "cell_type": "code",
   "execution_count": 1,
   "metadata": {},
   "outputs": [
    {
     "data": {
      "text/html": [
       "<style>div.container { width:100% !important; }</style>"
      ],
      "text/plain": [
       "<IPython.core.display.HTML object>"
      ]
     },
     "metadata": {},
     "output_type": "display_data"
    }
   ],
   "source": [
    "from IPython.display import display, HTML\n",
    "display(HTML(\"<style>div.container { width:100% !important; }</style>\"))"
   ]
  },
  {
   "cell_type": "code",
   "execution_count": null,
   "metadata": {},
   "outputs": [],
   "source": []
  },
  {
   "cell_type": "markdown",
   "metadata": {},
   "source": []
  },
  {
   "cell_type": "code",
   "execution_count": 2,
   "metadata": {},
   "outputs": [
    {
     "ename": "KeyboardInterrupt",
     "evalue": "",
     "output_type": "error",
     "traceback": [
      "\u001b[1;31m---------------------------------------------------------------------------\u001b[0m",
      "\u001b[1;31mKeyboardInterrupt\u001b[0m                         Traceback (most recent call last)",
      "Cell \u001b[1;32mIn [2], line 2\u001b[0m\n\u001b[0;32m      1\u001b[0m \u001b[38;5;28;01mimport\u001b[39;00m \u001b[38;5;21;01mnumpy\u001b[39;00m \u001b[38;5;28;01mas\u001b[39;00m \u001b[38;5;21;01mnp\u001b[39;00m\n\u001b[1;32m----> 2\u001b[0m \u001b[38;5;28;01mimport\u001b[39;00m \u001b[38;5;21;01mtensorflow\u001b[39;00m \u001b[38;5;28;01mas\u001b[39;00m \u001b[38;5;21;01mtf\u001b[39;00m                            \u001b[38;5;66;03m# tensorflow 기본 import\u001b[39;00m\n\u001b[0;32m      3\u001b[0m \u001b[38;5;28;01mfrom\u001b[39;00m \u001b[38;5;21;01mtensorflow\u001b[39;00m\u001b[38;5;21;01m.\u001b[39;00m\u001b[38;5;21;01mkeras\u001b[39;00m\u001b[38;5;21;01m.\u001b[39;00m\u001b[38;5;21;01mmodels\u001b[39;00m \u001b[38;5;28;01mimport\u001b[39;00m Sequential     \u001b[38;5;66;03m# model box 구성\u001b[39;00m\n\u001b[0;32m      4\u001b[0m \u001b[38;5;28;01mfrom\u001b[39;00m \u001b[38;5;21;01mtensorflow\u001b[39;00m\u001b[38;5;21;01m.\u001b[39;00m\u001b[38;5;21;01mkeras\u001b[39;00m\u001b[38;5;21;01m.\u001b[39;00m\u001b[38;5;21;01mlayers\u001b[39;00m \u001b[38;5;28;01mimport\u001b[39;00m Flatten, Dense \u001b[38;5;66;03m# model 안의 input layer와 output layer를 구성\u001b[39;00m\n",
      "File \u001b[1;32mc:\\Users\\KOREAIT\\AppData\\Local\\Programs\\Python\\Python310\\lib\\site-packages\\tensorflow\\__init__.py:37\u001b[0m\n\u001b[0;32m     34\u001b[0m \u001b[39mimport\u001b[39;00m \u001b[39msys\u001b[39;00m \u001b[39mas\u001b[39;00m \u001b[39m_sys\u001b[39;00m\n\u001b[0;32m     35\u001b[0m \u001b[39mimport\u001b[39;00m \u001b[39mtyping\u001b[39;00m \u001b[39mas\u001b[39;00m \u001b[39m_typing\u001b[39;00m\n\u001b[1;32m---> 37\u001b[0m \u001b[39mfrom\u001b[39;00m \u001b[39mtensorflow\u001b[39;00m\u001b[39m.\u001b[39;00m\u001b[39mpython\u001b[39;00m\u001b[39m.\u001b[39;00m\u001b[39mtools\u001b[39;00m \u001b[39mimport\u001b[39;00m module_util \u001b[39mas\u001b[39;00m _module_util\n\u001b[0;32m     38\u001b[0m \u001b[39mfrom\u001b[39;00m \u001b[39mtensorflow\u001b[39;00m\u001b[39m.\u001b[39;00m\u001b[39mpython\u001b[39;00m\u001b[39m.\u001b[39;00m\u001b[39mutil\u001b[39;00m\u001b[39m.\u001b[39;00m\u001b[39mlazy_loader\u001b[39;00m \u001b[39mimport\u001b[39;00m LazyLoader \u001b[39mas\u001b[39;00m _LazyLoader\n\u001b[0;32m     40\u001b[0m \u001b[39m# Make sure code inside the TensorFlow codebase can use tf2.enabled() at import.\u001b[39;00m\n",
      "File \u001b[1;32mc:\\Users\\KOREAIT\\AppData\\Local\\Programs\\Python\\Python310\\lib\\site-packages\\tensorflow\\python\\__init__.py:45\u001b[0m\n\u001b[0;32m     43\u001b[0m \u001b[39mfrom\u001b[39;00m \u001b[39mtensorflow\u001b[39;00m\u001b[39m.\u001b[39;00m\u001b[39mpython\u001b[39;00m \u001b[39mimport\u001b[39;00m distribute\n\u001b[0;32m     44\u001b[0m \u001b[39m# from tensorflow.python import keras\u001b[39;00m\n\u001b[1;32m---> 45\u001b[0m \u001b[39mfrom\u001b[39;00m \u001b[39mtensorflow\u001b[39;00m\u001b[39m.\u001b[39;00m\u001b[39mpython\u001b[39;00m\u001b[39m.\u001b[39;00m\u001b[39mfeature_column\u001b[39;00m \u001b[39mimport\u001b[39;00m feature_column_lib \u001b[39mas\u001b[39;00m feature_column\n\u001b[0;32m     46\u001b[0m \u001b[39m# from tensorflow.python.layers import layers\u001b[39;00m\n\u001b[0;32m     47\u001b[0m \u001b[39mfrom\u001b[39;00m \u001b[39mtensorflow\u001b[39;00m\u001b[39m.\u001b[39;00m\u001b[39mpython\u001b[39;00m\u001b[39m.\u001b[39;00m\u001b[39mmodule\u001b[39;00m \u001b[39mimport\u001b[39;00m module\n",
      "File \u001b[1;32mc:\\Users\\KOREAIT\\AppData\\Local\\Programs\\Python\\Python310\\lib\\site-packages\\tensorflow\\python\\feature_column\\feature_column_lib.py:18\u001b[0m\n\u001b[0;32m     15\u001b[0m \u001b[39m\"\"\"FeatureColumns: tools for ingesting and representing features.\"\"\"\u001b[39;00m\n\u001b[0;32m     17\u001b[0m \u001b[39m# pylint: disable=unused-import,line-too-long,wildcard-import,g-bad-import-order\u001b[39;00m\n\u001b[1;32m---> 18\u001b[0m \u001b[39mfrom\u001b[39;00m \u001b[39mtensorflow\u001b[39;00m\u001b[39m.\u001b[39;00m\u001b[39mpython\u001b[39;00m\u001b[39m.\u001b[39;00m\u001b[39mfeature_column\u001b[39;00m\u001b[39m.\u001b[39;00m\u001b[39mfeature_column\u001b[39;00m \u001b[39mimport\u001b[39;00m \u001b[39m*\u001b[39m\n\u001b[0;32m     19\u001b[0m \u001b[39mfrom\u001b[39;00m \u001b[39mtensorflow\u001b[39;00m\u001b[39m.\u001b[39;00m\u001b[39mpython\u001b[39;00m\u001b[39m.\u001b[39;00m\u001b[39mfeature_column\u001b[39;00m\u001b[39m.\u001b[39;00m\u001b[39mfeature_column_v2\u001b[39;00m \u001b[39mimport\u001b[39;00m \u001b[39m*\u001b[39m\n\u001b[0;32m     20\u001b[0m \u001b[39mfrom\u001b[39;00m \u001b[39mtensorflow\u001b[39;00m\u001b[39m.\u001b[39;00m\u001b[39mpython\u001b[39;00m\u001b[39m.\u001b[39;00m\u001b[39mfeature_column\u001b[39;00m\u001b[39m.\u001b[39;00m\u001b[39msequence_feature_column\u001b[39;00m \u001b[39mimport\u001b[39;00m \u001b[39m*\u001b[39m\n",
      "File \u001b[1;32mc:\\Users\\KOREAIT\\AppData\\Local\\Programs\\Python\\Python310\\lib\\site-packages\\tensorflow\\python\\feature_column\\feature_column.py:143\u001b[0m\n\u001b[0;32m    141\u001b[0m \u001b[39mfrom\u001b[39;00m \u001b[39mtensorflow\u001b[39;00m\u001b[39m.\u001b[39;00m\u001b[39mpython\u001b[39;00m\u001b[39m.\u001b[39;00m\u001b[39mframework\u001b[39;00m \u001b[39mimport\u001b[39;00m sparse_tensor \u001b[39mas\u001b[39;00m sparse_tensor_lib\n\u001b[0;32m    142\u001b[0m \u001b[39mfrom\u001b[39;00m \u001b[39mtensorflow\u001b[39;00m\u001b[39m.\u001b[39;00m\u001b[39mpython\u001b[39;00m\u001b[39m.\u001b[39;00m\u001b[39mframework\u001b[39;00m \u001b[39mimport\u001b[39;00m tensor_shape\n\u001b[1;32m--> 143\u001b[0m \u001b[39mfrom\u001b[39;00m \u001b[39mtensorflow\u001b[39;00m\u001b[39m.\u001b[39;00m\u001b[39mpython\u001b[39;00m\u001b[39m.\u001b[39;00m\u001b[39mlayers\u001b[39;00m \u001b[39mimport\u001b[39;00m base\n\u001b[0;32m    144\u001b[0m \u001b[39mfrom\u001b[39;00m \u001b[39mtensorflow\u001b[39;00m\u001b[39m.\u001b[39;00m\u001b[39mpython\u001b[39;00m\u001b[39m.\u001b[39;00m\u001b[39mops\u001b[39;00m \u001b[39mimport\u001b[39;00m array_ops\n\u001b[0;32m    145\u001b[0m \u001b[39mfrom\u001b[39;00m \u001b[39mtensorflow\u001b[39;00m\u001b[39m.\u001b[39;00m\u001b[39mpython\u001b[39;00m\u001b[39m.\u001b[39;00m\u001b[39mops\u001b[39;00m \u001b[39mimport\u001b[39;00m check_ops\n",
      "File \u001b[1;32mc:\\Users\\KOREAIT\\AppData\\Local\\Programs\\Python\\Python310\\lib\\site-packages\\tensorflow\\python\\layers\\base.py:16\u001b[0m\n\u001b[0;32m      1\u001b[0m \u001b[39m# Copyright 2015 The TensorFlow Authors. All Rights Reserved.\u001b[39;00m\n\u001b[0;32m      2\u001b[0m \u001b[39m#\u001b[39;00m\n\u001b[0;32m      3\u001b[0m \u001b[39m# Licensed under the Apache License, Version 2.0 (the \"License\");\u001b[39;00m\n\u001b[1;32m   (...)\u001b[0m\n\u001b[0;32m     13\u001b[0m \u001b[39m# limitations under the License.\u001b[39;00m\n\u001b[0;32m     14\u001b[0m \u001b[39m# =============================================================================\u001b[39;00m\n\u001b[0;32m     15\u001b[0m \u001b[39m\"\"\"Contains the base Layer class, from which all layers inherit.\"\"\"\u001b[39;00m\n\u001b[1;32m---> 16\u001b[0m \u001b[39mfrom\u001b[39;00m \u001b[39mtensorflow\u001b[39;00m\u001b[39m.\u001b[39;00m\u001b[39mpython\u001b[39;00m\u001b[39m.\u001b[39;00m\u001b[39mkeras\u001b[39;00m\u001b[39m.\u001b[39;00m\u001b[39mlegacy_tf_layers\u001b[39;00m \u001b[39mimport\u001b[39;00m base\n\u001b[0;32m     18\u001b[0m InputSpec \u001b[39m=\u001b[39m base\u001b[39m.\u001b[39mInputSpec\n\u001b[0;32m     20\u001b[0m keras_style_scope \u001b[39m=\u001b[39m base\u001b[39m.\u001b[39mkeras_style_scope\n",
      "File \u001b[1;32mc:\\Users\\KOREAIT\\AppData\\Local\\Programs\\Python\\Python310\\lib\\site-packages\\tensorflow\\python\\keras\\__init__.py:25\u001b[0m\n\u001b[0;32m     22\u001b[0m \u001b[39mfrom\u001b[39;00m \u001b[39mtensorflow\u001b[39;00m\u001b[39m.\u001b[39;00m\u001b[39mpython\u001b[39;00m\u001b[39m.\u001b[39;00m\u001b[39mkeras\u001b[39;00m \u001b[39mimport\u001b[39;00m distribute\n\u001b[0;32m     24\u001b[0m \u001b[39m# See b/110718070#comment18 for more details about this import.\u001b[39;00m\n\u001b[1;32m---> 25\u001b[0m \u001b[39mfrom\u001b[39;00m \u001b[39mtensorflow\u001b[39;00m\u001b[39m.\u001b[39;00m\u001b[39mpython\u001b[39;00m\u001b[39m.\u001b[39;00m\u001b[39mkeras\u001b[39;00m \u001b[39mimport\u001b[39;00m models\n\u001b[0;32m     27\u001b[0m \u001b[39mfrom\u001b[39;00m \u001b[39mtensorflow\u001b[39;00m\u001b[39m.\u001b[39;00m\u001b[39mpython\u001b[39;00m\u001b[39m.\u001b[39;00m\u001b[39mkeras\u001b[39;00m\u001b[39m.\u001b[39;00m\u001b[39mengine\u001b[39;00m\u001b[39m.\u001b[39;00m\u001b[39minput_layer\u001b[39;00m \u001b[39mimport\u001b[39;00m Input\n\u001b[0;32m     28\u001b[0m \u001b[39mfrom\u001b[39;00m \u001b[39mtensorflow\u001b[39;00m\u001b[39m.\u001b[39;00m\u001b[39mpython\u001b[39;00m\u001b[39m.\u001b[39;00m\u001b[39mkeras\u001b[39;00m\u001b[39m.\u001b[39;00m\u001b[39mengine\u001b[39;00m\u001b[39m.\u001b[39;00m\u001b[39msequential\u001b[39;00m \u001b[39mimport\u001b[39;00m Sequential\n",
      "File \u001b[1;32mc:\\Users\\KOREAIT\\AppData\\Local\\Programs\\Python\\Python310\\lib\\site-packages\\tensorflow\\python\\keras\\models.py:20\u001b[0m\n\u001b[0;32m     18\u001b[0m \u001b[39mfrom\u001b[39;00m \u001b[39mtensorflow\u001b[39;00m\u001b[39m.\u001b[39;00m\u001b[39mpython\u001b[39;00m\u001b[39m.\u001b[39;00m\u001b[39mframework\u001b[39;00m \u001b[39mimport\u001b[39;00m ops\n\u001b[0;32m     19\u001b[0m \u001b[39mfrom\u001b[39;00m \u001b[39mtensorflow\u001b[39;00m\u001b[39m.\u001b[39;00m\u001b[39mpython\u001b[39;00m\u001b[39m.\u001b[39;00m\u001b[39mkeras\u001b[39;00m \u001b[39mimport\u001b[39;00m backend\n\u001b[1;32m---> 20\u001b[0m \u001b[39mfrom\u001b[39;00m \u001b[39mtensorflow\u001b[39;00m\u001b[39m.\u001b[39;00m\u001b[39mpython\u001b[39;00m\u001b[39m.\u001b[39;00m\u001b[39mkeras\u001b[39;00m \u001b[39mimport\u001b[39;00m metrics \u001b[39mas\u001b[39;00m metrics_module\n\u001b[0;32m     21\u001b[0m \u001b[39mfrom\u001b[39;00m \u001b[39mtensorflow\u001b[39;00m\u001b[39m.\u001b[39;00m\u001b[39mpython\u001b[39;00m\u001b[39m.\u001b[39;00m\u001b[39mkeras\u001b[39;00m \u001b[39mimport\u001b[39;00m optimizer_v1\n\u001b[0;32m     22\u001b[0m \u001b[39mfrom\u001b[39;00m \u001b[39mtensorflow\u001b[39;00m\u001b[39m.\u001b[39;00m\u001b[39mpython\u001b[39;00m\u001b[39m.\u001b[39;00m\u001b[39mkeras\u001b[39;00m\u001b[39m.\u001b[39;00m\u001b[39mengine\u001b[39;00m \u001b[39mimport\u001b[39;00m functional\n",
      "File \u001b[1;32mc:\\Users\\KOREAIT\\AppData\\Local\\Programs\\Python\\Python310\\lib\\site-packages\\tensorflow\\python\\keras\\metrics.py:34\u001b[0m\n\u001b[0;32m     32\u001b[0m \u001b[39mfrom\u001b[39;00m \u001b[39mtensorflow\u001b[39;00m\u001b[39m.\u001b[39;00m\u001b[39mpython\u001b[39;00m\u001b[39m.\u001b[39;00m\u001b[39mframework\u001b[39;00m \u001b[39mimport\u001b[39;00m ops\n\u001b[0;32m     33\u001b[0m \u001b[39mfrom\u001b[39;00m \u001b[39mtensorflow\u001b[39;00m\u001b[39m.\u001b[39;00m\u001b[39mpython\u001b[39;00m\u001b[39m.\u001b[39;00m\u001b[39mframework\u001b[39;00m \u001b[39mimport\u001b[39;00m tensor_shape\n\u001b[1;32m---> 34\u001b[0m \u001b[39mfrom\u001b[39;00m \u001b[39mtensorflow\u001b[39;00m\u001b[39m.\u001b[39;00m\u001b[39mpython\u001b[39;00m\u001b[39m.\u001b[39;00m\u001b[39mkeras\u001b[39;00m \u001b[39mimport\u001b[39;00m activations\n\u001b[0;32m     35\u001b[0m \u001b[39mfrom\u001b[39;00m \u001b[39mtensorflow\u001b[39;00m\u001b[39m.\u001b[39;00m\u001b[39mpython\u001b[39;00m\u001b[39m.\u001b[39;00m\u001b[39mkeras\u001b[39;00m \u001b[39mimport\u001b[39;00m backend\n\u001b[0;32m     36\u001b[0m \u001b[39mfrom\u001b[39;00m \u001b[39mtensorflow\u001b[39;00m\u001b[39m.\u001b[39;00m\u001b[39mpython\u001b[39;00m\u001b[39m.\u001b[39;00m\u001b[39mkeras\u001b[39;00m\u001b[39m.\u001b[39;00m\u001b[39mengine\u001b[39;00m \u001b[39mimport\u001b[39;00m base_layer\n",
      "File \u001b[1;32mc:\\Users\\KOREAIT\\AppData\\Local\\Programs\\Python\\Python310\\lib\\site-packages\\tensorflow\\python\\keras\\activations.py:18\u001b[0m\n\u001b[0;32m     15\u001b[0m \u001b[39m\"\"\"Built-in activation functions.\"\"\"\u001b[39;00m\n\u001b[0;32m     17\u001b[0m \u001b[39mfrom\u001b[39;00m \u001b[39mtensorflow\u001b[39;00m\u001b[39m.\u001b[39;00m\u001b[39mpython\u001b[39;00m\u001b[39m.\u001b[39;00m\u001b[39mkeras\u001b[39;00m \u001b[39mimport\u001b[39;00m backend\n\u001b[1;32m---> 18\u001b[0m \u001b[39mfrom\u001b[39;00m \u001b[39mtensorflow\u001b[39;00m\u001b[39m.\u001b[39;00m\u001b[39mpython\u001b[39;00m\u001b[39m.\u001b[39;00m\u001b[39mkeras\u001b[39;00m\u001b[39m.\u001b[39;00m\u001b[39mlayers\u001b[39;00m \u001b[39mimport\u001b[39;00m advanced_activations\n\u001b[0;32m     19\u001b[0m \u001b[39mfrom\u001b[39;00m \u001b[39mtensorflow\u001b[39;00m\u001b[39m.\u001b[39;00m\u001b[39mpython\u001b[39;00m\u001b[39m.\u001b[39;00m\u001b[39mkeras\u001b[39;00m\u001b[39m.\u001b[39;00m\u001b[39mutils\u001b[39;00m\u001b[39m.\u001b[39;00m\u001b[39mgeneric_utils\u001b[39;00m \u001b[39mimport\u001b[39;00m deserialize_keras_object\n\u001b[0;32m     20\u001b[0m \u001b[39mfrom\u001b[39;00m \u001b[39mtensorflow\u001b[39;00m\u001b[39m.\u001b[39;00m\u001b[39mpython\u001b[39;00m\u001b[39m.\u001b[39;00m\u001b[39mkeras\u001b[39;00m\u001b[39m.\u001b[39;00m\u001b[39mutils\u001b[39;00m\u001b[39m.\u001b[39;00m\u001b[39mgeneric_utils\u001b[39;00m \u001b[39mimport\u001b[39;00m serialize_keras_object\n",
      "File \u001b[1;32mc:\\Users\\KOREAIT\\AppData\\Local\\Programs\\Python\\Python310\\lib\\site-packages\\tensorflow\\python\\keras\\layers\\__init__.py:68\u001b[0m\n\u001b[0;32m     65\u001b[0m \u001b[39mfrom\u001b[39;00m \u001b[39mtensorflow\u001b[39;00m\u001b[39m.\u001b[39;00m\u001b[39mpython\u001b[39;00m\u001b[39m.\u001b[39;00m\u001b[39mkeras\u001b[39;00m\u001b[39m.\u001b[39;00m\u001b[39mlayers\u001b[39;00m\u001b[39m.\u001b[39;00m\u001b[39mconvolutional\u001b[39;00m \u001b[39mimport\u001b[39;00m Cropping3D\n\u001b[0;32m     67\u001b[0m \u001b[39m# Core layers.\u001b[39;00m\n\u001b[1;32m---> 68\u001b[0m \u001b[39mfrom\u001b[39;00m \u001b[39mtensorflow\u001b[39;00m\u001b[39m.\u001b[39;00m\u001b[39mpython\u001b[39;00m\u001b[39m.\u001b[39;00m\u001b[39mkeras\u001b[39;00m\u001b[39m.\u001b[39;00m\u001b[39mlayers\u001b[39;00m\u001b[39m.\u001b[39;00m\u001b[39mcore\u001b[39;00m \u001b[39mimport\u001b[39;00m Masking\n\u001b[0;32m     69\u001b[0m \u001b[39mfrom\u001b[39;00m \u001b[39mtensorflow\u001b[39;00m\u001b[39m.\u001b[39;00m\u001b[39mpython\u001b[39;00m\u001b[39m.\u001b[39;00m\u001b[39mkeras\u001b[39;00m\u001b[39m.\u001b[39;00m\u001b[39mlayers\u001b[39;00m\u001b[39m.\u001b[39;00m\u001b[39mcore\u001b[39;00m \u001b[39mimport\u001b[39;00m Dropout\n\u001b[0;32m     70\u001b[0m \u001b[39mfrom\u001b[39;00m \u001b[39mtensorflow\u001b[39;00m\u001b[39m.\u001b[39;00m\u001b[39mpython\u001b[39;00m\u001b[39m.\u001b[39;00m\u001b[39mkeras\u001b[39;00m\u001b[39m.\u001b[39;00m\u001b[39mlayers\u001b[39;00m\u001b[39m.\u001b[39;00m\u001b[39mcore\u001b[39;00m \u001b[39mimport\u001b[39;00m SpatialDropout1D\n",
      "File \u001b[1;32mc:\\Users\\KOREAIT\\AppData\\Local\\Programs\\Python\\Python310\\lib\\site-packages\\tensorflow\\python\\keras\\layers\\core.py:54\u001b[0m\n\u001b[0;32m     52\u001b[0m \u001b[39mfrom\u001b[39;00m \u001b[39mtensorflow\u001b[39;00m\u001b[39m.\u001b[39;00m\u001b[39mpython\u001b[39;00m\u001b[39m.\u001b[39;00m\u001b[39mops\u001b[39;00m \u001b[39mimport\u001b[39;00m nn_ops\n\u001b[0;32m     53\u001b[0m \u001b[39mfrom\u001b[39;00m \u001b[39mtensorflow\u001b[39;00m\u001b[39m.\u001b[39;00m\u001b[39mpython\u001b[39;00m\u001b[39m.\u001b[39;00m\u001b[39mops\u001b[39;00m \u001b[39mimport\u001b[39;00m sparse_ops\n\u001b[1;32m---> 54\u001b[0m \u001b[39mfrom\u001b[39;00m \u001b[39mtensorflow\u001b[39;00m\u001b[39m.\u001b[39;00m\u001b[39mpython\u001b[39;00m\u001b[39m.\u001b[39;00m\u001b[39mops\u001b[39;00m \u001b[39mimport\u001b[39;00m standard_ops\n\u001b[0;32m     55\u001b[0m \u001b[39mfrom\u001b[39;00m \u001b[39mtensorflow\u001b[39;00m\u001b[39m.\u001b[39;00m\u001b[39mpython\u001b[39;00m\u001b[39m.\u001b[39;00m\u001b[39mops\u001b[39;00m \u001b[39mimport\u001b[39;00m variable_scope\n\u001b[0;32m     56\u001b[0m \u001b[39mfrom\u001b[39;00m \u001b[39mtensorflow\u001b[39;00m\u001b[39m.\u001b[39;00m\u001b[39mpython\u001b[39;00m\u001b[39m.\u001b[39;00m\u001b[39mops\u001b[39;00m\u001b[39m.\u001b[39;00m\u001b[39mragged\u001b[39;00m \u001b[39mimport\u001b[39;00m ragged_getitem\n",
      "File \u001b[1;32mc:\\Users\\KOREAIT\\AppData\\Local\\Programs\\Python\\Python310\\lib\\site-packages\\tensorflow\\python\\ops\\standard_ops.py:108\u001b[0m\n\u001b[0;32m    105\u001b[0m \u001b[39mfrom\u001b[39;00m \u001b[39mtensorflow\u001b[39;00m\u001b[39m.\u001b[39;00m\u001b[39mpython\u001b[39;00m\u001b[39m.\u001b[39;00m\u001b[39mops\u001b[39;00m\u001b[39m.\u001b[39;00m\u001b[39mvariables\u001b[39;00m \u001b[39mimport\u001b[39;00m \u001b[39m*\u001b[39m\n\u001b[0;32m    106\u001b[0m \u001b[39mfrom\u001b[39;00m \u001b[39mtensorflow\u001b[39;00m\u001b[39m.\u001b[39;00m\u001b[39mpython\u001b[39;00m\u001b[39m.\u001b[39;00m\u001b[39mops\u001b[39;00m\u001b[39m.\u001b[39;00m\u001b[39mparallel_for\u001b[39;00m\u001b[39m.\u001b[39;00m\u001b[39mcontrol_flow_ops\u001b[39;00m \u001b[39mimport\u001b[39;00m vectorized_map\n\u001b[1;32m--> 108\u001b[0m \u001b[39mfrom\u001b[39;00m \u001b[39mtensorflow\u001b[39;00m\u001b[39m.\u001b[39;00m\u001b[39mpython\u001b[39;00m\u001b[39m.\u001b[39;00m\u001b[39mcompiler\u001b[39;00m\u001b[39m.\u001b[39;00m\u001b[39mtensorrt\u001b[39;00m \u001b[39mimport\u001b[39;00m trt_convert \u001b[39mas\u001b[39;00m trt\n\u001b[0;32m    110\u001b[0m \u001b[39m# pylint: enable=wildcard-import\u001b[39;00m\n\u001b[0;32m    111\u001b[0m \u001b[39m# pylint: enable=g-bad-import-order\u001b[39;00m\n\u001b[0;32m    112\u001b[0m \n\u001b[0;32m    113\u001b[0m \n\u001b[0;32m    114\u001b[0m \u001b[39m# These modules were imported to set up RaggedTensor operators and dispatchers:\u001b[39;00m\n\u001b[0;32m    115\u001b[0m \u001b[39mdel\u001b[39;00m _ragged_dispatch, _ragged_operators\n",
      "File \u001b[1;32mc:\\Users\\KOREAIT\\AppData\\Local\\Programs\\Python\\Python310\\lib\\site-packages\\tensorflow\\python\\compiler\\tensorrt\\__init__.py:18\u001b[0m\n\u001b[0;32m     15\u001b[0m \u001b[39m\"\"\"Exposes the python wrapper for TensorRT graph transforms.\"\"\"\u001b[39;00m\n\u001b[0;32m     17\u001b[0m \u001b[39m# pylint: disable=unused-import,line-too-long\u001b[39;00m\n\u001b[1;32m---> 18\u001b[0m \u001b[39mfrom\u001b[39;00m \u001b[39mtensorflow\u001b[39;00m\u001b[39m.\u001b[39;00m\u001b[39mpython\u001b[39;00m\u001b[39m.\u001b[39;00m\u001b[39mcompiler\u001b[39;00m\u001b[39m.\u001b[39;00m\u001b[39mtensorrt\u001b[39;00m \u001b[39mimport\u001b[39;00m trt_convert \u001b[39mas\u001b[39;00m trt\n",
      "File \u001b[1;32mc:\\Users\\KOREAIT\\AppData\\Local\\Programs\\Python\\Python310\\lib\\site-packages\\tensorflow\\python\\compiler\\tensorrt\\trt_convert.py:34\u001b[0m\n\u001b[0;32m     32\u001b[0m \u001b[39mfrom\u001b[39;00m \u001b[39mtensorflow\u001b[39;00m\u001b[39m.\u001b[39;00m\u001b[39mpython\u001b[39;00m\u001b[39m.\u001b[39;00m\u001b[39meager\u001b[39;00m \u001b[39mimport\u001b[39;00m context\n\u001b[0;32m     33\u001b[0m \u001b[39mfrom\u001b[39;00m \u001b[39mtensorflow\u001b[39;00m\u001b[39m.\u001b[39;00m\u001b[39mpython\u001b[39;00m\u001b[39m.\u001b[39;00m\u001b[39meager\u001b[39;00m \u001b[39mimport\u001b[39;00m wrap_function\n\u001b[1;32m---> 34\u001b[0m \u001b[39mfrom\u001b[39;00m \u001b[39mtensorflow\u001b[39;00m\u001b[39m.\u001b[39;00m\u001b[39mpython\u001b[39;00m\u001b[39m.\u001b[39;00m\u001b[39mframework\u001b[39;00m \u001b[39mimport\u001b[39;00m convert_to_constants\n\u001b[0;32m     35\u001b[0m \u001b[39mfrom\u001b[39;00m \u001b[39mtensorflow\u001b[39;00m\u001b[39m.\u001b[39;00m\u001b[39mpython\u001b[39;00m\u001b[39m.\u001b[39;00m\u001b[39mframework\u001b[39;00m \u001b[39mimport\u001b[39;00m dtypes\n\u001b[0;32m     36\u001b[0m \u001b[39mfrom\u001b[39;00m \u001b[39mtensorflow\u001b[39;00m\u001b[39m.\u001b[39;00m\u001b[39mpython\u001b[39;00m\u001b[39m.\u001b[39;00m\u001b[39mframework\u001b[39;00m \u001b[39mimport\u001b[39;00m errors\n",
      "File \u001b[1;32mc:\\Users\\KOREAIT\\AppData\\Local\\Programs\\Python\\Python310\\lib\\site-packages\\tensorflow\\python\\framework\\convert_to_constants.py:33\u001b[0m\n\u001b[0;32m     31\u001b[0m \u001b[39mfrom\u001b[39;00m \u001b[39mtensorflow\u001b[39;00m\u001b[39m.\u001b[39;00m\u001b[39mpython\u001b[39;00m\u001b[39m.\u001b[39;00m\u001b[39mframework\u001b[39;00m \u001b[39mimport\u001b[39;00m ops\n\u001b[0;32m     32\u001b[0m \u001b[39mfrom\u001b[39;00m \u001b[39mtensorflow\u001b[39;00m\u001b[39m.\u001b[39;00m\u001b[39mpython\u001b[39;00m\u001b[39m.\u001b[39;00m\u001b[39mframework\u001b[39;00m \u001b[39mimport\u001b[39;00m tensor_util\n\u001b[1;32m---> 33\u001b[0m \u001b[39mfrom\u001b[39;00m \u001b[39mtensorflow\u001b[39;00m\u001b[39m.\u001b[39;00m\u001b[39mpython\u001b[39;00m\u001b[39m.\u001b[39;00m\u001b[39mgrappler\u001b[39;00m \u001b[39mimport\u001b[39;00m tf_optimizer\n\u001b[0;32m     34\u001b[0m \u001b[39mfrom\u001b[39;00m \u001b[39mtensorflow\u001b[39;00m\u001b[39m.\u001b[39;00m\u001b[39mpython\u001b[39;00m\u001b[39m.\u001b[39;00m\u001b[39mops\u001b[39;00m \u001b[39mimport\u001b[39;00m array_ops\n\u001b[0;32m     35\u001b[0m \u001b[39mfrom\u001b[39;00m \u001b[39mtensorflow\u001b[39;00m\u001b[39m.\u001b[39;00m\u001b[39mpython\u001b[39;00m\u001b[39m.\u001b[39;00m\u001b[39mops\u001b[39;00m \u001b[39mimport\u001b[39;00m variables\n",
      "File \u001b[1;32mc:\\Users\\KOREAIT\\AppData\\Local\\Programs\\Python\\Python310\\lib\\site-packages\\tensorflow\\python\\grappler\\tf_optimizer.py:22\u001b[0m\n\u001b[0;32m     20\u001b[0m \u001b[39mfrom\u001b[39;00m \u001b[39mtensorflow\u001b[39;00m\u001b[39m.\u001b[39;00m\u001b[39mcore\u001b[39;00m\u001b[39m.\u001b[39;00m\u001b[39mprotobuf\u001b[39;00m \u001b[39mimport\u001b[39;00m config_pb2\n\u001b[0;32m     21\u001b[0m \u001b[39mfrom\u001b[39;00m \u001b[39mtensorflow\u001b[39;00m\u001b[39m.\u001b[39;00m\u001b[39mpython\u001b[39;00m\u001b[39m.\u001b[39;00m\u001b[39mgrappler\u001b[39;00m \u001b[39mimport\u001b[39;00m _pywrap_tf_optimizer \u001b[39mas\u001b[39;00m tf_opt\n\u001b[1;32m---> 22\u001b[0m \u001b[39mfrom\u001b[39;00m \u001b[39mtensorflow\u001b[39;00m\u001b[39m.\u001b[39;00m\u001b[39mpython\u001b[39;00m\u001b[39m.\u001b[39;00m\u001b[39mgrappler\u001b[39;00m \u001b[39mimport\u001b[39;00m cluster \u001b[39mas\u001b[39;00m gcluster\n\u001b[0;32m     24\u001b[0m _OPTIMIZE_GRAPH_CLUSTER_LOCK \u001b[39m=\u001b[39m threading\u001b[39m.\u001b[39mLock()\n\u001b[0;32m     27\u001b[0m \u001b[39mdef\u001b[39;00m \u001b[39mOptimizeGraph\u001b[39m(config_proto,\n\u001b[0;32m     28\u001b[0m                   metagraph,\n\u001b[0;32m     29\u001b[0m                   verbose\u001b[39m=\u001b[39m\u001b[39mTrue\u001b[39;00m,\n\u001b[0;32m     30\u001b[0m                   graph_id\u001b[39m=\u001b[39m\u001b[39mb\u001b[39m\u001b[39m'\u001b[39m\u001b[39mgraph_to_optimize\u001b[39m\u001b[39m'\u001b[39m,\n\u001b[0;32m     31\u001b[0m                   cluster\u001b[39m=\u001b[39m\u001b[39mNone\u001b[39;00m,\n\u001b[0;32m     32\u001b[0m                   strip_default_attributes\u001b[39m=\u001b[39m\u001b[39mFalse\u001b[39;00m):\n",
      "File \u001b[1;32mc:\\Users\\KOREAIT\\AppData\\Local\\Programs\\Python\\Python310\\lib\\site-packages\\tensorflow\\python\\grappler\\cluster.py:20\u001b[0m\n\u001b[0;32m     17\u001b[0m \u001b[39mimport\u001b[39;00m \u001b[39mcontextlib\u001b[39;00m\n\u001b[0;32m     19\u001b[0m \u001b[39mfrom\u001b[39;00m \u001b[39mtensorflow\u001b[39;00m\u001b[39m.\u001b[39;00m\u001b[39mcore\u001b[39;00m\u001b[39m.\u001b[39;00m\u001b[39mframework\u001b[39;00m \u001b[39mimport\u001b[39;00m step_stats_pb2\n\u001b[1;32m---> 20\u001b[0m \u001b[39mfrom\u001b[39;00m \u001b[39mtensorflow\u001b[39;00m\u001b[39m.\u001b[39;00m\u001b[39mcore\u001b[39;00m\u001b[39m.\u001b[39;00m\u001b[39mgrappler\u001b[39;00m\u001b[39m.\u001b[39;00m\u001b[39mcosts\u001b[39;00m \u001b[39mimport\u001b[39;00m op_performance_data_pb2\n\u001b[0;32m     21\u001b[0m \u001b[39mfrom\u001b[39;00m \u001b[39mtensorflow\u001b[39;00m\u001b[39m.\u001b[39;00m\u001b[39mcore\u001b[39;00m\u001b[39m.\u001b[39;00m\u001b[39mprotobuf\u001b[39;00m \u001b[39mimport\u001b[39;00m device_properties_pb2\n\u001b[0;32m     22\u001b[0m \u001b[39mfrom\u001b[39;00m \u001b[39mtensorflow\u001b[39;00m\u001b[39m.\u001b[39;00m\u001b[39mpython\u001b[39;00m\u001b[39m.\u001b[39;00m\u001b[39mgrappler\u001b[39;00m \u001b[39mimport\u001b[39;00m _pywrap_tf_cluster \u001b[39mas\u001b[39;00m tf_cluster\n",
      "File \u001b[1;32m<frozen importlib._bootstrap>:1027\u001b[0m, in \u001b[0;36m_find_and_load\u001b[1;34m(name, import_)\u001b[0m\n",
      "File \u001b[1;32m<frozen importlib._bootstrap>:1006\u001b[0m, in \u001b[0;36m_find_and_load_unlocked\u001b[1;34m(name, import_)\u001b[0m\n",
      "File \u001b[1;32m<frozen importlib._bootstrap>:688\u001b[0m, in \u001b[0;36m_load_unlocked\u001b[1;34m(spec)\u001b[0m\n",
      "File \u001b[1;32m<frozen importlib._bootstrap_external>:879\u001b[0m, in \u001b[0;36mexec_module\u001b[1;34m(self, module)\u001b[0m\n",
      "File \u001b[1;32m<frozen importlib._bootstrap_external>:975\u001b[0m, in \u001b[0;36mget_code\u001b[1;34m(self, fullname)\u001b[0m\n",
      "File \u001b[1;32m<frozen importlib._bootstrap_external>:1074\u001b[0m, in \u001b[0;36mget_data\u001b[1;34m(self, path)\u001b[0m\n",
      "\u001b[1;31mKeyboardInterrupt\u001b[0m: "
     ]
    }
   ],
   "source": [
    "import numpy as np\n",
    "import tensorflow as tf                            # tensorflow 기본 import\n",
    "from tensorflow.keras.models import Sequential     # model box 구성\n",
    "from tensorflow.keras.layers import Flatten, Dense # model 안의 input layer와 output layer를 구성\n",
    "from tensorflow.keras.optimizers import SGD        # 알고리즘 담당\n",
    "from sklearn.model_selection import train_test_split # train Data,Test Data 분리\n",
    "from sklearn.preprocessing import MinMaxScaler     # 데이터 정규화\n",
    "# 컴퓨터는 큰 숫를 작은 수로\n",
    "# 변경 0~1 사이 실수 값으로 변경\n",
    "\n"
   ]
  },
  {
   "cell_type": "code",
   "execution_count": null,
   "metadata": {},
   "outputs": [],
   "source": [
    "(x_train,y_train),(X_test,Y_test)=\\\n",
    "    tf.keras.datasets.fashion_mnist.load_data()"
   ]
  },
  {
   "cell_type": "code",
   "execution_count": null,
   "metadata": {},
   "outputs": [
    {
     "data": {
      "text/plain": [
       "(60000, 28, 28)"
      ]
     },
     "execution_count": 67,
     "metadata": {},
     "output_type": "execute_result"
    }
   ],
   "source": [
    "x_train.shape"
   ]
  },
  {
   "cell_type": "code",
   "execution_count": null,
   "metadata": {},
   "outputs": [
    {
     "data": {
      "text/plain": [
       "(60000,)"
      ]
     },
     "execution_count": 68,
     "metadata": {},
     "output_type": "execute_result"
    }
   ],
   "source": [
    "y_train.shape"
   ]
  },
  {
   "cell_type": "code",
   "execution_count": null,
   "metadata": {},
   "outputs": [
    {
     "data": {
      "text/plain": [
       "(10000, 28, 28)"
      ]
     },
     "execution_count": 69,
     "metadata": {},
     "output_type": "execute_result"
    }
   ],
   "source": [
    "X_test.shape"
   ]
  },
  {
   "cell_type": "code",
   "execution_count": null,
   "metadata": {},
   "outputs": [
    {
     "data": {
      "text/plain": [
       "(10000, 28, 28)"
      ]
     },
     "execution_count": 70,
     "metadata": {},
     "output_type": "execute_result"
    }
   ],
   "source": [
    "X_test.shape"
   ]
  },
  {
   "cell_type": "code",
   "execution_count": null,
   "metadata": {},
   "outputs": [
    {
     "data": {
      "image/png": "[encoded data removed]",
      "text/plain": [
       "<Figure size 1000x1000 with 10 Axes>"
      ]
     },
     "metadata": {},
     "output_type": "display_data"
    }
   ],
   "source": [
    "import matplotlib.pyplot as plt\n",
    "fig,axs = plt.subplots(1,10,figsize=(10,10))\n",
    "\n",
    "for i in range(10):\n",
    "    axs[i].imshow(x_train[i],cmap='gray_r')\n",
    "    axs[i].axis('off')\n",
    "plt.show()"
   ]
  },
  {
   "cell_type": "code",
   "execution_count": null,
   "metadata": {},
   "outputs": [
    {
     "data": {
      "image/png": "[encoded data removed]",
      "text/plain": [
       "<Figure size 1000x1000 with 10 Axes>"
      ]
     },
     "metadata": {},
     "output_type": "display_data"
    }
   ],
   "source": [
    "import matplotlib.pyplot as plt\n",
    "fig,axs = plt.subplots(1,10,figsize=(10,10))\n",
    "\n",
    "for i in range(10):\n",
    "    axs[i].imshow(X_test[i],cmap='gray_r')\n",
    "    axs[i].axis('off')\n",
    "plt.show()"
   ]
  },
  {
   "cell_type": "code",
   "execution_count": null,
   "metadata": {},
   "outputs": [
    {
     "name": "stdout",
     "output_type": "stream",
     "text": [
      "[9, 0, 0, 3, 0, 2, 7, 2, 5, 5]\n"
     ]
    }
   ],
   "source": [
    "print([y_train[i] for i in range(10)])"
   ]
  },
  {
   "cell_type": "code",
   "execution_count": null,
   "metadata": {},
   "outputs": [
    {
     "name": "stdout",
     "output_type": "stream",
     "text": [
      "(array([0, 1, 2, 3, 4, 5, 6, 7, 8, 9], dtype=uint8), array([6000, 6000, 6000, 6000, 6000, 6000, 6000, 6000, 6000, 6000],\n",
      "      dtype=int64))\n"
     ]
    }
   ],
   "source": [
    "import numpy as np\n",
    "print(np.unique(y_train,return_counts=True))"
   ]
  },
  {
   "cell_type": "code",
   "execution_count": null,
   "metadata": {},
   "outputs": [],
   "source": [
    "norm_x_train = x_train/255 #MinMaxScale\n",
    "norm_X_test = X_test/255"
   ]
  },
  {
   "cell_type": "code",
   "execution_count": null,
   "metadata": {},
   "outputs": [
    {
     "data": {
      "text/plain": [
       "(60000, 28, 28)"
      ]
     },
     "execution_count": 76,
     "metadata": {},
     "output_type": "execute_result"
    }
   ],
   "source": [
    "norm_x_train.shape"
   ]
  },
  {
   "cell_type": "code",
   "execution_count": null,
   "metadata": {},
   "outputs": [
    {
     "data": {
      "text/plain": [
       "(10000, 28, 28)"
      ]
     },
     "execution_count": 77,
     "metadata": {},
     "output_type": "execute_result"
    }
   ],
   "source": [
    "norm_X_test.shape"
   ]
  },
  {
   "cell_type": "code",
   "execution_count": null,
   "metadata": {},
   "outputs": [],
   "source": [
    "norm_x_train = norm_x_train.reshape(-1,28*28)\n",
    "norm_X_test = norm_X_test.reshape(-1,28*28)\n"
   ]
  },
  {
   "cell_type": "code",
   "execution_count": null,
   "metadata": {},
   "outputs": [
    {
     "data": {
      "text/plain": [
       "(60000, 784)"
      ]
     },
     "execution_count": 79,
     "metadata": {},
     "output_type": "execute_result"
    }
   ],
   "source": [
    "norm_x_train.shape"
   ]
  },
  {
   "cell_type": "code",
   "execution_count": null,
   "metadata": {},
   "outputs": [
    {
     "data": {
      "text/plain": [
       "(10000, 784)"
      ]
     },
     "execution_count": 80,
     "metadata": {},
     "output_type": "execute_result"
    }
   ],
   "source": [
    "norm_X_test.shape"
   ]
  },
  {
   "cell_type": "code",
   "execution_count": null,
   "metadata": {},
   "outputs": [],
   "source": [
    "model = Sequential()"
   ]
  },
  {
   "cell_type": "code",
   "execution_count": null,
   "metadata": {},
   "outputs": [],
   "source": [
    "model.add(Flatten(input_shape=(28*28,)))\n",
    "\n",
    "model.add(Dense(units=10,activation=\"softmax\"))"
   ]
  },
  {
   "cell_type": "code",
   "execution_count": null,
   "metadata": {},
   "outputs": [],
   "source": [
    "model.compile(optimizer=SGD(learning_rate=0.001),\n",
    "              loss=\"sparse_categorical_crossentropy\",\n",
    "                metrics=[\"accuracy\"])"
   ]
  },
  {
   "cell_type": "code",
   "execution_count": null,
   "metadata": {},
   "outputs": [
    {
     "name": "stdout",
     "output_type": "stream",
     "text": [
      "Model: \"sequential_2\"\n",
      "_________________________________________________________________\n",
      " Layer (type)                Output Shape              Param #   \n",
      "=================================================================\n",
      " flatten_4 (Flatten)         (None, 784)               0         \n",
      "                                                                 \n",
      " dense_3 (Dense)             (None, 10)                7850      \n",
      "                                                                 \n",
      "=================================================================\n",
      "Total params: 7,850\n",
      "Trainable params: 7,850\n",
      "Non-trainable params: 0\n",
      "_________________________________________________________________\n"
     ]
    }
   ],
   "source": [
    "model.summary()"
   ]
  },
  {
   "cell_type": "code",
   "execution_count": null,
   "metadata": {},
   "outputs": [
    {
     "name": "stdout",
     "output_type": "stream",
     "text": [
      "Epoch 1/100\n",
      "1500/1500 [==============================] - 5s 3ms/step - loss: 1.5314 - accuracy: 0.5673 - val_loss: 1.1630 - val_accuracy: 0.6758\n",
      "Epoch 2/100\n",
      "1500/1500 [==============================] - 3s 2ms/step - loss: 1.0474 - accuracy: 0.6897 - val_loss: 0.9479 - val_accuracy: 0.7126\n",
      "Epoch 3/100\n",
      "1500/1500 [==============================] - 4s 3ms/step - loss: 0.9051 - accuracy: 0.7174 - val_loss: 0.8528 - val_accuracy: 0.7336\n",
      "Epoch 4/100\n",
      "1500/1500 [==============================] - 3s 2ms/step - loss: 0.8309 - accuracy: 0.7391 - val_loss: 0.7960 - val_accuracy: 0.7492\n",
      "Epoch 5/100\n",
      "1500/1500 [==============================] - 3s 2ms/step - loss: 0.7827 - accuracy: 0.7530 - val_loss: 0.7559 - val_accuracy: 0.7613\n",
      "Epoch 6/100\n",
      "1500/1500 [==============================] - 3s 2ms/step - loss: 0.7478 - accuracy: 0.7639 - val_loss: 0.7262 - val_accuracy: 0.7673\n",
      "Epoch 7/100\n",
      "1500/1500 [==============================] - 3s 2ms/step - loss: 0.7207 - accuracy: 0.7710 - val_loss: 0.7030 - val_accuracy: 0.7738\n",
      "Epoch 8/100\n",
      "1500/1500 [==============================] - 3s 2ms/step - loss: 0.6991 - accuracy: 0.7778 - val_loss: 0.6842 - val_accuracy: 0.7812\n",
      "Epoch 9/100\n",
      "1500/1500 [==============================] - 3s 2ms/step - loss: 0.6812 - accuracy: 0.7836 - val_loss: 0.6693 - val_accuracy: 0.7833\n",
      "Epoch 10/100\n",
      "1500/1500 [==============================] - 3s 2ms/step - loss: 0.6660 - accuracy: 0.7878 - val_loss: 0.6548 - val_accuracy: 0.7891\n",
      "Epoch 11/100\n",
      "1500/1500 [==============================] - 3s 2ms/step - loss: 0.6529 - accuracy: 0.7920 - val_loss: 0.6433 - val_accuracy: 0.7916\n",
      "Epoch 12/100\n",
      "1500/1500 [==============================] - 4s 3ms/step - loss: 0.6413 - accuracy: 0.7948 - val_loss: 0.6326 - val_accuracy: 0.7958\n",
      "Epoch 13/100\n",
      "1500/1500 [==============================] - 4s 3ms/step - loss: 0.6312 - accuracy: 0.7978 - val_loss: 0.6235 - val_accuracy: 0.7970\n",
      "Epoch 14/100\n",
      "1500/1500 [==============================] - 4s 2ms/step - loss: 0.6219 - accuracy: 0.8014 - val_loss: 0.6165 - val_accuracy: 0.7977\n",
      "Epoch 15/100\n",
      "1500/1500 [==============================] - 3s 2ms/step - loss: 0.6138 - accuracy: 0.8036 - val_loss: 0.6075 - val_accuracy: 0.8013\n",
      "Epoch 16/100\n",
      "1500/1500 [==============================] - 3s 2ms/step - loss: 0.6063 - accuracy: 0.8052 - val_loss: 0.6008 - val_accuracy: 0.8033\n",
      "Epoch 17/100\n",
      "1500/1500 [==============================] - 3s 2ms/step - loss: 0.5995 - accuracy: 0.8066 - val_loss: 0.5948 - val_accuracy: 0.8041\n",
      "Epoch 18/100\n",
      "1500/1500 [==============================] - 3s 2ms/step - loss: 0.5932 - accuracy: 0.8082 - val_loss: 0.5893 - val_accuracy: 0.8061\n",
      "Epoch 19/100\n",
      "1500/1500 [==============================] - 3s 2ms/step - loss: 0.5875 - accuracy: 0.8097 - val_loss: 0.5837 - val_accuracy: 0.8083\n",
      "Epoch 20/100\n",
      "1500/1500 [==============================] - 3s 2ms/step - loss: 0.5821 - accuracy: 0.8110 - val_loss: 0.5796 - val_accuracy: 0.8084\n",
      "Epoch 21/100\n",
      "1500/1500 [==============================] - 3s 2ms/step - loss: 0.5771 - accuracy: 0.8126 - val_loss: 0.5745 - val_accuracy: 0.8092\n",
      "Epoch 22/100\n",
      "1500/1500 [==============================] - 3s 2ms/step - loss: 0.5723 - accuracy: 0.8138 - val_loss: 0.5703 - val_accuracy: 0.8105\n",
      "Epoch 23/100\n",
      "1500/1500 [==============================] - 3s 2ms/step - loss: 0.5680 - accuracy: 0.8150 - val_loss: 0.5662 - val_accuracy: 0.8114\n",
      "Epoch 24/100\n",
      "1500/1500 [==============================] - 3s 2ms/step - loss: 0.5639 - accuracy: 0.8164 - val_loss: 0.5625 - val_accuracy: 0.8119\n",
      "Epoch 25/100\n",
      "1500/1500 [==============================] - 3s 2ms/step - loss: 0.5600 - accuracy: 0.8173 - val_loss: 0.5586 - val_accuracy: 0.8145\n",
      "Epoch 26/100\n",
      "1500/1500 [==============================] - 3s 2ms/step - loss: 0.5563 - accuracy: 0.8188 - val_loss: 0.5566 - val_accuracy: 0.8137\n",
      "Epoch 27/100\n",
      "1500/1500 [==============================] - 3s 2ms/step - loss: 0.5529 - accuracy: 0.8197 - val_loss: 0.5522 - val_accuracy: 0.8158\n",
      "Epoch 28/100\n",
      "1500/1500 [==============================] - 3s 2ms/step - loss: 0.5496 - accuracy: 0.8213 - val_loss: 0.5493 - val_accuracy: 0.8170\n",
      "Epoch 29/100\n",
      "1500/1500 [==============================] - 3s 2ms/step - loss: 0.5464 - accuracy: 0.8209 - val_loss: 0.5476 - val_accuracy: 0.8163\n",
      "Epoch 30/100\n",
      "1500/1500 [==============================] - 3s 2ms/step - loss: 0.5435 - accuracy: 0.8219 - val_loss: 0.5435 - val_accuracy: 0.8189\n",
      "Epoch 31/100\n",
      "1500/1500 [==============================] - 3s 2ms/step - loss: 0.5407 - accuracy: 0.8226 - val_loss: 0.5411 - val_accuracy: 0.8192\n",
      "Epoch 32/100\n",
      "1500/1500 [==============================] - 3s 2ms/step - loss: 0.5379 - accuracy: 0.8237 - val_loss: 0.5386 - val_accuracy: 0.8188\n",
      "Epoch 33/100\n",
      "1500/1500 [==============================] - 3s 2ms/step - loss: 0.5353 - accuracy: 0.8248 - val_loss: 0.5365 - val_accuracy: 0.8194\n",
      "Epoch 34/100\n",
      "1500/1500 [==============================] - 3s 2ms/step - loss: 0.5329 - accuracy: 0.8245 - val_loss: 0.5340 - val_accuracy: 0.8212\n",
      "Epoch 35/100\n",
      "1500/1500 [==============================] - 3s 2ms/step - loss: 0.5305 - accuracy: 0.8261 - val_loss: 0.5320 - val_accuracy: 0.8212\n",
      "Epoch 36/100\n",
      "1500/1500 [==============================] - 3s 2ms/step - loss: 0.5283 - accuracy: 0.8261 - val_loss: 0.5298 - val_accuracy: 0.8227\n",
      "Epoch 37/100\n",
      "1500/1500 [==============================] - 3s 2ms/step - loss: 0.5261 - accuracy: 0.8273 - val_loss: 0.5280 - val_accuracy: 0.8218\n",
      "Epoch 38/100\n",
      "1500/1500 [==============================] - 3s 2ms/step - loss: 0.5239 - accuracy: 0.8276 - val_loss: 0.5259 - val_accuracy: 0.8235\n",
      "Epoch 39/100\n",
      "1500/1500 [==============================] - 3s 2ms/step - loss: 0.5219 - accuracy: 0.8281 - val_loss: 0.5240 - val_accuracy: 0.8242\n",
      "Epoch 40/100\n",
      "1500/1500 [==============================] - 3s 2ms/step - loss: 0.5199 - accuracy: 0.8290 - val_loss: 0.5226 - val_accuracy: 0.8243\n",
      "Epoch 41/100\n",
      "1500/1500 [==============================] - 3s 2ms/step - loss: 0.5180 - accuracy: 0.8294 - val_loss: 0.5213 - val_accuracy: 0.8234\n",
      "Epoch 42/100\n",
      "1500/1500 [==============================] - 3s 2ms/step - loss: 0.5163 - accuracy: 0.8292 - val_loss: 0.5191 - val_accuracy: 0.8256\n",
      "Epoch 43/100\n",
      "1500/1500 [==============================] - 3s 2ms/step - loss: 0.5145 - accuracy: 0.8299 - val_loss: 0.5174 - val_accuracy: 0.8261\n",
      "Epoch 44/100\n",
      "1500/1500 [==============================] - 3s 2ms/step - loss: 0.5127 - accuracy: 0.8309 - val_loss: 0.5156 - val_accuracy: 0.8268\n",
      "Epoch 45/100\n",
      "1500/1500 [==============================] - 3s 2ms/step - loss: 0.5112 - accuracy: 0.8312 - val_loss: 0.5142 - val_accuracy: 0.8274\n",
      "Epoch 46/100\n",
      "1500/1500 [==============================] - 3s 2ms/step - loss: 0.5095 - accuracy: 0.8317 - val_loss: 0.5128 - val_accuracy: 0.8276\n",
      "Epoch 47/100\n",
      "1500/1500 [==============================] - 3s 2ms/step - loss: 0.5080 - accuracy: 0.8321 - val_loss: 0.5114 - val_accuracy: 0.8282\n",
      "Epoch 48/100\n",
      "1500/1500 [==============================] - 3s 2ms/step - loss: 0.5065 - accuracy: 0.8324 - val_loss: 0.5101 - val_accuracy: 0.8282\n",
      "Epoch 49/100\n",
      "1500/1500 [==============================] - 3s 2ms/step - loss: 0.5051 - accuracy: 0.8329 - val_loss: 0.5085 - val_accuracy: 0.8287\n",
      "Epoch 50/100\n",
      "1500/1500 [==============================] - 3s 2ms/step - loss: 0.5036 - accuracy: 0.8334 - val_loss: 0.5072 - val_accuracy: 0.8292\n",
      "Epoch 51/100\n",
      "1500/1500 [==============================] - 3s 2ms/step - loss: 0.5022 - accuracy: 0.8333 - val_loss: 0.5061 - val_accuracy: 0.8294\n",
      "Epoch 52/100\n",
      "1500/1500 [==============================] - 3s 2ms/step - loss: 0.5009 - accuracy: 0.8342 - val_loss: 0.5049 - val_accuracy: 0.8303\n",
      "Epoch 53/100\n",
      "1500/1500 [==============================] - 3s 2ms/step - loss: 0.4996 - accuracy: 0.8345 - val_loss: 0.5041 - val_accuracy: 0.8299\n",
      "Epoch 54/100\n",
      "1500/1500 [==============================] - 3s 2ms/step - loss: 0.4983 - accuracy: 0.8346 - val_loss: 0.5029 - val_accuracy: 0.8306\n",
      "Epoch 55/100\n",
      "1500/1500 [==============================] - 3s 2ms/step - loss: 0.4970 - accuracy: 0.8354 - val_loss: 0.5020 - val_accuracy: 0.8309\n",
      "Epoch 56/100\n",
      "1500/1500 [==============================] - 3s 2ms/step - loss: 0.4959 - accuracy: 0.8353 - val_loss: 0.5004 - val_accuracy: 0.8315\n",
      "Epoch 57/100\n",
      "1500/1500 [==============================] - 3s 2ms/step - loss: 0.4947 - accuracy: 0.8355 - val_loss: 0.4991 - val_accuracy: 0.8321\n",
      "Epoch 58/100\n",
      "1500/1500 [==============================] - 3s 2ms/step - loss: 0.4934 - accuracy: 0.8359 - val_loss: 0.4982 - val_accuracy: 0.8321\n",
      "Epoch 59/100\n",
      "1500/1500 [==============================] - 3s 2ms/step - loss: 0.4924 - accuracy: 0.8367 - val_loss: 0.4973 - val_accuracy: 0.8323\n",
      "Epoch 60/100\n",
      "1500/1500 [==============================] - 3s 2ms/step - loss: 0.4912 - accuracy: 0.8363 - val_loss: 0.4967 - val_accuracy: 0.8317\n",
      "Epoch 61/100\n",
      "1500/1500 [==============================] - 3s 2ms/step - loss: 0.4902 - accuracy: 0.8365 - val_loss: 0.4957 - val_accuracy: 0.8320\n",
      "Epoch 62/100\n",
      "1500/1500 [==============================] - 3s 2ms/step - loss: 0.4892 - accuracy: 0.8373 - val_loss: 0.4943 - val_accuracy: 0.8333\n",
      "Epoch 63/100\n",
      "1500/1500 [==============================] - 3s 2ms/step - loss: 0.4882 - accuracy: 0.8375 - val_loss: 0.4934 - val_accuracy: 0.8334\n",
      "Epoch 64/100\n",
      "1500/1500 [==============================] - 3s 2ms/step - loss: 0.4871 - accuracy: 0.8381 - val_loss: 0.4925 - val_accuracy: 0.8336\n",
      "Epoch 65/100\n",
      "1500/1500 [==============================] - 3s 2ms/step - loss: 0.4862 - accuracy: 0.8384 - val_loss: 0.4917 - val_accuracy: 0.8333\n",
      "Epoch 66/100\n",
      "1500/1500 [==============================] - 3s 2ms/step - loss: 0.4852 - accuracy: 0.8384 - val_loss: 0.4908 - val_accuracy: 0.8340\n",
      "Epoch 67/100\n",
      "1500/1500 [==============================] - 3s 2ms/step - loss: 0.4843 - accuracy: 0.8388 - val_loss: 0.4900 - val_accuracy: 0.8340\n",
      "Epoch 68/100\n",
      "1500/1500 [==============================] - 3s 2ms/step - loss: 0.4834 - accuracy: 0.8392 - val_loss: 0.4888 - val_accuracy: 0.8347\n",
      "Epoch 69/100\n",
      "1500/1500 [==============================] - 3s 2ms/step - loss: 0.4825 - accuracy: 0.8396 - val_loss: 0.4881 - val_accuracy: 0.8347\n",
      "Epoch 70/100\n",
      "1500/1500 [==============================] - 3s 2ms/step - loss: 0.4816 - accuracy: 0.8398 - val_loss: 0.4874 - val_accuracy: 0.8342\n",
      "Epoch 71/100\n",
      "1500/1500 [==============================] - 3s 2ms/step - loss: 0.4807 - accuracy: 0.8398 - val_loss: 0.4867 - val_accuracy: 0.8347\n",
      "Epoch 72/100\n",
      "1500/1500 [==============================] - 3s 2ms/step - loss: 0.4799 - accuracy: 0.8401 - val_loss: 0.4858 - val_accuracy: 0.8353\n",
      "Epoch 73/100\n",
      "1500/1500 [==============================] - 3s 2ms/step - loss: 0.4791 - accuracy: 0.8399 - val_loss: 0.4850 - val_accuracy: 0.8358\n",
      "Epoch 74/100\n",
      "1500/1500 [==============================] - 3s 2ms/step - loss: 0.4783 - accuracy: 0.8406 - val_loss: 0.4844 - val_accuracy: 0.8363\n",
      "Epoch 75/100\n",
      "1500/1500 [==============================] - 3s 2ms/step - loss: 0.4774 - accuracy: 0.8409 - val_loss: 0.4837 - val_accuracy: 0.8353\n",
      "Epoch 76/100\n",
      "1500/1500 [==============================] - 3s 2ms/step - loss: 0.4767 - accuracy: 0.8407 - val_loss: 0.4830 - val_accuracy: 0.8355\n",
      "Epoch 77/100\n",
      "1500/1500 [==============================] - 3s 2ms/step - loss: 0.4759 - accuracy: 0.8409 - val_loss: 0.4825 - val_accuracy: 0.8347\n",
      "Epoch 78/100\n",
      "1500/1500 [==============================] - 3s 2ms/step - loss: 0.4752 - accuracy: 0.8416 - val_loss: 0.4819 - val_accuracy: 0.8355\n",
      "Epoch 79/100\n",
      "1500/1500 [==============================] - 3s 2ms/step - loss: 0.4744 - accuracy: 0.8415 - val_loss: 0.4810 - val_accuracy: 0.8374\n",
      "Epoch 80/100\n",
      "1500/1500 [==============================] - 3s 2ms/step - loss: 0.4737 - accuracy: 0.8415 - val_loss: 0.4801 - val_accuracy: 0.8369\n",
      "Epoch 81/100\n",
      "1500/1500 [==============================] - 3s 2ms/step - loss: 0.4729 - accuracy: 0.8416 - val_loss: 0.4799 - val_accuracy: 0.8367\n",
      "Epoch 82/100\n",
      "1500/1500 [==============================] - 3s 2ms/step - loss: 0.4723 - accuracy: 0.8425 - val_loss: 0.4791 - val_accuracy: 0.8371\n",
      "Epoch 83/100\n",
      "1500/1500 [==============================] - 3s 2ms/step - loss: 0.4716 - accuracy: 0.8428 - val_loss: 0.4784 - val_accuracy: 0.8366\n",
      "Epoch 84/100\n",
      "1500/1500 [==============================] - 3s 2ms/step - loss: 0.4709 - accuracy: 0.8425 - val_loss: 0.4781 - val_accuracy: 0.8369\n",
      "Epoch 85/100\n",
      "1500/1500 [==============================] - 3s 2ms/step - loss: 0.4702 - accuracy: 0.8426 - val_loss: 0.4770 - val_accuracy: 0.8367\n",
      "Epoch 86/100\n",
      "1500/1500 [==============================] - 3s 2ms/step - loss: 0.4696 - accuracy: 0.8433 - val_loss: 0.4768 - val_accuracy: 0.8374\n",
      "Epoch 87/100\n",
      "1500/1500 [==============================] - 3s 2ms/step - loss: 0.4690 - accuracy: 0.8434 - val_loss: 0.4762 - val_accuracy: 0.8381\n",
      "Epoch 88/100\n",
      "1500/1500 [==============================] - 3s 2ms/step - loss: 0.4683 - accuracy: 0.8433 - val_loss: 0.4757 - val_accuracy: 0.8374\n",
      "Epoch 89/100\n",
      "1500/1500 [==============================] - 3s 2ms/step - loss: 0.4677 - accuracy: 0.8441 - val_loss: 0.4748 - val_accuracy: 0.8384\n",
      "Epoch 90/100\n",
      "1500/1500 [==============================] - 3s 2ms/step - loss: 0.4671 - accuracy: 0.8440 - val_loss: 0.4745 - val_accuracy: 0.8374\n",
      "Epoch 91/100\n",
      "1500/1500 [==============================] - 3s 2ms/step - loss: 0.4665 - accuracy: 0.8441 - val_loss: 0.4740 - val_accuracy: 0.8395\n",
      "Epoch 92/100\n",
      "1500/1500 [==============================] - 3s 2ms/step - loss: 0.4658 - accuracy: 0.8439 - val_loss: 0.4735 - val_accuracy: 0.8376\n",
      "Epoch 93/100\n",
      "1500/1500 [==============================] - 3s 2ms/step - loss: 0.4653 - accuracy: 0.8448 - val_loss: 0.4739 - val_accuracy: 0.8388\n",
      "Epoch 94/100\n",
      "1500/1500 [==============================] - 3s 2ms/step - loss: 0.4647 - accuracy: 0.8446 - val_loss: 0.4725 - val_accuracy: 0.8392\n",
      "Epoch 95/100\n",
      "1500/1500 [==============================] - 3s 2ms/step - loss: 0.4642 - accuracy: 0.8444 - val_loss: 0.4722 - val_accuracy: 0.8384\n",
      "Epoch 96/100\n",
      "1500/1500 [==============================] - 3s 2ms/step - loss: 0.4635 - accuracy: 0.8451 - val_loss: 0.4718 - val_accuracy: 0.8380\n",
      "Epoch 97/100\n",
      "1500/1500 [==============================] - 3s 2ms/step - loss: 0.4630 - accuracy: 0.8446 - val_loss: 0.4708 - val_accuracy: 0.8384\n",
      "Epoch 98/100\n",
      "1500/1500 [==============================] - 3s 2ms/step - loss: 0.4624 - accuracy: 0.8453 - val_loss: 0.4702 - val_accuracy: 0.8384\n",
      "Epoch 99/100\n",
      "1500/1500 [==============================] - 3s 2ms/step - loss: 0.4619 - accuracy: 0.8454 - val_loss: 0.4699 - val_accuracy: 0.8381\n",
      "Epoch 100/100\n",
      "1500/1500 [==============================] - 3s 2ms/step - loss: 0.4614 - accuracy: 0.8455 - val_loss: 0.4693 - val_accuracy: 0.8389\n"
     ]
    },
    {
     "data": {
      "text/plain": [
       "<keras.callbacks.History at 0x1a21c047100>"
      ]
     },
     "execution_count": 85,
     "metadata": {},
     "output_type": "execute_result"
    }
   ],
   "source": [
    "model.fit(norm_x_train,\n",
    "         y_train,\n",
    "         epochs=100,\n",
    "         verbose=1,\n",
    "         validation_split=0.2)"
   ]
  },
  {
   "cell_type": "code",
   "execution_count": null,
   "metadata": {},
   "outputs": [
    {
     "data": {
      "text/plain": [
       "(10000, 784)"
      ]
     },
     "execution_count": 86,
     "metadata": {},
     "output_type": "execute_result"
    }
   ],
   "source": [
    "norm_X_test.shape"
   ]
  },
  {
   "cell_type": "code",
   "execution_count": null,
   "metadata": {},
   "outputs": [
    {
     "data": {
      "text/plain": [
       "(10000, 784)"
      ]
     },
     "execution_count": 87,
     "metadata": {},
     "output_type": "execute_result"
    }
   ],
   "source": [
    "norm_X_test.reshape(-1,28*28)\n",
    "norm_X_test.shape"
   ]
  },
  {
   "cell_type": "code",
   "execution_count": null,
   "metadata": {},
   "outputs": [
    {
     "name": "stdout",
     "output_type": "stream",
     "text": [
      "313/313 [==============================] - 1s 2ms/step - loss: 0.4951 - accuracy: 0.8301\n"
     ]
    },
    {
     "data": {
      "text/plain": [
       "[0.4950650930404663, 0.8300999999046326]"
      ]
     },
     "execution_count": 88,
     "metadata": {},
     "output_type": "execute_result"
    }
   ],
   "source": [
    "model.evaluate(norm_X_test,Y_test)"
   ]
  },
  {
   "cell_type": "code",
   "execution_count": null,
   "metadata": {},
   "outputs": [],
   "source": [
    "model2 = Sequential()"
   ]
  },
  {
   "cell_type": "code",
   "execution_count": null,
   "metadata": {},
   "outputs": [],
   "source": [
    "model2.add(Flatten(input_shape=(28*28,)))\n",
    "model2.add(Dense(units=256, activation='sigmoid'))\n",
    "model2.add(Dense(units=10, activation='softmax'))"
   ]
  },
  {
   "cell_type": "code",
   "execution_count": null,
   "metadata": {},
   "outputs": [],
   "source": [
    "model2.compile(optimizer=SGD(learning_rate=0.001),\n",
    "             loss='sparse_categorical_crossentropy',\n",
    "             metrics=['accuracy'])"
   ]
  },
  {
   "cell_type": "code",
   "execution_count": null,
   "metadata": {},
   "outputs": [
    {
     "name": "stdout",
     "output_type": "stream",
     "text": [
      "Model: \"sequential_3\"\n",
      "_________________________________________________________________\n",
      " Layer (type)                Output Shape              Param #   \n",
      "=================================================================\n",
      " flatten_5 (Flatten)         (None, 784)               0         \n",
      "                                                                 \n",
      " dense_4 (Dense)             (None, 256)               200960    \n",
      "                                                                 \n",
      " dense_5 (Dense)             (None, 10)                2570      \n",
      "                                                                 \n",
      "=================================================================\n",
      "Total params: 203,530\n",
      "Trainable params: 203,530\n",
      "Non-trainable params: 0\n",
      "_________________________________________________________________\n"
     ]
    }
   ],
   "source": [
    "model2.summary()"
   ]
  },
  {
   "cell_type": "code",
   "execution_count": null,
   "metadata": {},
   "outputs": [
    {
     "name": "stdout",
     "output_type": "stream",
     "text": [
      "Epoch 1/100\n",
      "1500/1500 [==============================] - 8s 3ms/step - loss: 2.0867 - accuracy: 0.4558 - val_loss: 1.8887 - val_accuracy: 0.6117\n",
      "Epoch 2/100\n",
      "1500/1500 [==============================] - 4s 3ms/step - loss: 1.7414 - accuracy: 0.6363 - val_loss: 1.6005 - val_accuracy: 0.6716\n",
      "Epoch 3/100\n",
      "1500/1500 [==============================] - 4s 3ms/step - loss: 1.4988 - accuracy: 0.6721 - val_loss: 1.3961 - val_accuracy: 0.6933\n",
      "Epoch 4/100\n",
      "1500/1500 [==============================] - 4s 3ms/step - loss: 1.3266 - accuracy: 0.6933 - val_loss: 1.2505 - val_accuracy: 0.7073\n",
      "Epoch 5/100\n",
      "1500/1500 [==============================] - 4s 3ms/step - loss: 1.2022 - accuracy: 0.7059 - val_loss: 1.1433 - val_accuracy: 0.7136\n",
      "Epoch 6/100\n",
      "1500/1500 [==============================] - 4s 3ms/step - loss: 1.1096 - accuracy: 0.7148 - val_loss: 1.0622 - val_accuracy: 0.7169\n",
      "Epoch 7/100\n",
      "1500/1500 [==============================] - 4s 3ms/step - loss: 1.0386 - accuracy: 0.7210 - val_loss: 0.9994 - val_accuracy: 0.7231\n",
      "Epoch 8/100\n",
      "1500/1500 [==============================] - 4s 3ms/step - loss: 0.9826 - accuracy: 0.7267 - val_loss: 0.9494 - val_accuracy: 0.7293\n",
      "Epoch 9/100\n",
      "1500/1500 [==============================] - 4s 3ms/step - loss: 0.9374 - accuracy: 0.7313 - val_loss: 0.9087 - val_accuracy: 0.7326\n",
      "Epoch 10/100\n",
      "1500/1500 [==============================] - 4s 3ms/step - loss: 0.9000 - accuracy: 0.7357 - val_loss: 0.8746 - val_accuracy: 0.7366\n",
      "Epoch 11/100\n",
      "1500/1500 [==============================] - 4s 3ms/step - loss: 0.8688 - accuracy: 0.7392 - val_loss: 0.8463 - val_accuracy: 0.7404\n",
      "Epoch 12/100\n",
      "1500/1500 [==============================] - 4s 3ms/step - loss: 0.8422 - accuracy: 0.7423 - val_loss: 0.8216 - val_accuracy: 0.7431\n",
      "Epoch 13/100\n",
      "1500/1500 [==============================] - 4s 3ms/step - loss: 0.8194 - accuracy: 0.7457 - val_loss: 0.8005 - val_accuracy: 0.7468\n",
      "Epoch 14/100\n",
      "1500/1500 [==============================] - 4s 3ms/step - loss: 0.7994 - accuracy: 0.7482 - val_loss: 0.7820 - val_accuracy: 0.7495\n",
      "Epoch 15/100\n",
      "1500/1500 [==============================] - 4s 3ms/step - loss: 0.7817 - accuracy: 0.7504 - val_loss: 0.7654 - val_accuracy: 0.7523\n",
      "Epoch 16/100\n",
      "1500/1500 [==============================] - 4s 3ms/step - loss: 0.7662 - accuracy: 0.7527 - val_loss: 0.7509 - val_accuracy: 0.7546\n",
      "Epoch 17/100\n",
      "1500/1500 [==============================] - 4s 3ms/step - loss: 0.7521 - accuracy: 0.7558 - val_loss: 0.7382 - val_accuracy: 0.7577\n",
      "Epoch 18/100\n",
      "1500/1500 [==============================] - 5s 3ms/step - loss: 0.7394 - accuracy: 0.7575 - val_loss: 0.7259 - val_accuracy: 0.7588\n",
      "Epoch 19/100\n",
      "1500/1500 [==============================] - 5s 3ms/step - loss: 0.7279 - accuracy: 0.7601 - val_loss: 0.7152 - val_accuracy: 0.7608\n",
      "Epoch 20/100\n",
      "1500/1500 [==============================] - 4s 3ms/step - loss: 0.7172 - accuracy: 0.7619 - val_loss: 0.7055 - val_accuracy: 0.7626\n",
      "Epoch 21/100\n",
      "1500/1500 [==============================] - 4s 3ms/step - loss: 0.7075 - accuracy: 0.7639 - val_loss: 0.6961 - val_accuracy: 0.7642\n",
      "Epoch 22/100\n",
      "1500/1500 [==============================] - 4s 3ms/step - loss: 0.6985 - accuracy: 0.7649 - val_loss: 0.6885 - val_accuracy: 0.7647\n",
      "Epoch 23/100\n",
      "1500/1500 [==============================] - 4s 3ms/step - loss: 0.6901 - accuracy: 0.7671 - val_loss: 0.6800 - val_accuracy: 0.7667\n",
      "Epoch 24/100\n",
      "1500/1500 [==============================] - 4s 3ms/step - loss: 0.6823 - accuracy: 0.7684 - val_loss: 0.6724 - val_accuracy: 0.7679\n",
      "Epoch 25/100\n",
      "1500/1500 [==============================] - 4s 3ms/step - loss: 0.6749 - accuracy: 0.7712 - val_loss: 0.6657 - val_accuracy: 0.7703\n",
      "Epoch 26/100\n",
      "1500/1500 [==============================] - 4s 3ms/step - loss: 0.6680 - accuracy: 0.7723 - val_loss: 0.6589 - val_accuracy: 0.7717\n",
      "Epoch 27/100\n",
      "1500/1500 [==============================] - 5s 3ms/step - loss: 0.6615 - accuracy: 0.7742 - val_loss: 0.6531 - val_accuracy: 0.7732\n",
      "Epoch 28/100\n",
      "1500/1500 [==============================] - 5s 3ms/step - loss: 0.6553 - accuracy: 0.7756 - val_loss: 0.6473 - val_accuracy: 0.7747\n",
      "Epoch 29/100\n",
      "1500/1500 [==============================] - 5s 3ms/step - loss: 0.6495 - accuracy: 0.7776 - val_loss: 0.6416 - val_accuracy: 0.7763\n",
      "Epoch 30/100\n",
      "1500/1500 [==============================] - 5s 3ms/step - loss: 0.6437 - accuracy: 0.7795 - val_loss: 0.6362 - val_accuracy: 0.7774\n",
      "Epoch 31/100\n",
      "1500/1500 [==============================] - 4s 3ms/step - loss: 0.6385 - accuracy: 0.7811 - val_loss: 0.6314 - val_accuracy: 0.7797\n",
      "Epoch 32/100\n",
      "1500/1500 [==============================] - 4s 3ms/step - loss: 0.6334 - accuracy: 0.7824 - val_loss: 0.6265 - val_accuracy: 0.7806\n",
      "Epoch 33/100\n",
      "1500/1500 [==============================] - 4s 3ms/step - loss: 0.6285 - accuracy: 0.7842 - val_loss: 0.6220 - val_accuracy: 0.7833\n",
      "Epoch 34/100\n",
      "1500/1500 [==============================] - 4s 3ms/step - loss: 0.6238 - accuracy: 0.7855 - val_loss: 0.6177 - val_accuracy: 0.7858\n",
      "Epoch 35/100\n",
      "1500/1500 [==============================] - 4s 3ms/step - loss: 0.6193 - accuracy: 0.7880 - val_loss: 0.6135 - val_accuracy: 0.7851\n",
      "Epoch 36/100\n",
      "1500/1500 [==============================] - 4s 3ms/step - loss: 0.6150 - accuracy: 0.7888 - val_loss: 0.6094 - val_accuracy: 0.7870\n",
      "Epoch 37/100\n",
      "1500/1500 [==============================] - 4s 3ms/step - loss: 0.6108 - accuracy: 0.7902 - val_loss: 0.6053 - val_accuracy: 0.7892\n",
      "Epoch 38/100\n",
      "1500/1500 [==============================] - 4s 3ms/step - loss: 0.6068 - accuracy: 0.7914 - val_loss: 0.6018 - val_accuracy: 0.7890\n",
      "Epoch 39/100\n",
      "1500/1500 [==============================] - 4s 3ms/step - loss: 0.6030 - accuracy: 0.7927 - val_loss: 0.5981 - val_accuracy: 0.7902\n",
      "Epoch 40/100\n",
      "1500/1500 [==============================] - 5s 3ms/step - loss: 0.5992 - accuracy: 0.7941 - val_loss: 0.5946 - val_accuracy: 0.7912\n",
      "Epoch 41/100\n",
      "1500/1500 [==============================] - 4s 3ms/step - loss: 0.5956 - accuracy: 0.7955 - val_loss: 0.5912 - val_accuracy: 0.7915\n",
      "Epoch 42/100\n",
      "1500/1500 [==============================] - 4s 3ms/step - loss: 0.5922 - accuracy: 0.7962 - val_loss: 0.5881 - val_accuracy: 0.7931\n",
      "Epoch 43/100\n",
      "1500/1500 [==============================] - 4s 3ms/step - loss: 0.5887 - accuracy: 0.7976 - val_loss: 0.5854 - val_accuracy: 0.7947\n",
      "Epoch 44/100\n",
      "1500/1500 [==============================] - 4s 3ms/step - loss: 0.5855 - accuracy: 0.7986 - val_loss: 0.5819 - val_accuracy: 0.7952\n",
      "Epoch 45/100\n",
      "1500/1500 [==============================] - 5s 3ms/step - loss: 0.5824 - accuracy: 0.7997 - val_loss: 0.5791 - val_accuracy: 0.7962\n",
      "Epoch 46/100\n",
      "1500/1500 [==============================] - 4s 3ms/step - loss: 0.5793 - accuracy: 0.8011 - val_loss: 0.5762 - val_accuracy: 0.7971\n",
      "Epoch 47/100\n",
      "1500/1500 [==============================] - 4s 3ms/step - loss: 0.5762 - accuracy: 0.8013 - val_loss: 0.5734 - val_accuracy: 0.7982\n",
      "Epoch 48/100\n",
      "1500/1500 [==============================] - 5s 3ms/step - loss: 0.5734 - accuracy: 0.8023 - val_loss: 0.5705 - val_accuracy: 0.7988\n",
      "Epoch 49/100\n",
      "1500/1500 [==============================] - 5s 3ms/step - loss: 0.5706 - accuracy: 0.8036 - val_loss: 0.5681 - val_accuracy: 0.7998\n",
      "Epoch 50/100\n",
      "1500/1500 [==============================] - 4s 3ms/step - loss: 0.5679 - accuracy: 0.8044 - val_loss: 0.5658 - val_accuracy: 0.8008\n",
      "Epoch 51/100\n",
      "1500/1500 [==============================] - 4s 3ms/step - loss: 0.5652 - accuracy: 0.8054 - val_loss: 0.5630 - val_accuracy: 0.8023\n",
      "Epoch 52/100\n",
      "1500/1500 [==============================] - 4s 3ms/step - loss: 0.5627 - accuracy: 0.8053 - val_loss: 0.5607 - val_accuracy: 0.8028\n",
      "Epoch 53/100\n",
      "1500/1500 [==============================] - 4s 3ms/step - loss: 0.5602 - accuracy: 0.8066 - val_loss: 0.5582 - val_accuracy: 0.8032\n",
      "Epoch 54/100\n",
      "1500/1500 [==============================] - 4s 3ms/step - loss: 0.5578 - accuracy: 0.8077 - val_loss: 0.5563 - val_accuracy: 0.8043\n",
      "Epoch 55/100\n",
      "1500/1500 [==============================] - 4s 3ms/step - loss: 0.5554 - accuracy: 0.8079 - val_loss: 0.5540 - val_accuracy: 0.8055\n",
      "Epoch 56/100\n",
      "1500/1500 [==============================] - 4s 3ms/step - loss: 0.5532 - accuracy: 0.8090 - val_loss: 0.5522 - val_accuracy: 0.8067\n",
      "Epoch 57/100\n",
      "1500/1500 [==============================] - 4s 3ms/step - loss: 0.5509 - accuracy: 0.8100 - val_loss: 0.5497 - val_accuracy: 0.8069\n",
      "Epoch 58/100\n",
      "1500/1500 [==============================] - 4s 3ms/step - loss: 0.5487 - accuracy: 0.8105 - val_loss: 0.5476 - val_accuracy: 0.8077\n",
      "Epoch 59/100\n",
      "1500/1500 [==============================] - 4s 3ms/step - loss: 0.5466 - accuracy: 0.8111 - val_loss: 0.5464 - val_accuracy: 0.8092\n",
      "Epoch 60/100\n",
      "1500/1500 [==============================] - 4s 3ms/step - loss: 0.5446 - accuracy: 0.8121 - val_loss: 0.5439 - val_accuracy: 0.8088\n",
      "Epoch 61/100\n",
      "1500/1500 [==============================] - 4s 3ms/step - loss: 0.5425 - accuracy: 0.8126 - val_loss: 0.5419 - val_accuracy: 0.8089\n",
      "Epoch 62/100\n",
      "1500/1500 [==============================] - 5s 3ms/step - loss: 0.5406 - accuracy: 0.8134 - val_loss: 0.5401 - val_accuracy: 0.8099\n",
      "Epoch 63/100\n",
      "1500/1500 [==============================] - 4s 3ms/step - loss: 0.5386 - accuracy: 0.8145 - val_loss: 0.5386 - val_accuracy: 0.8115\n",
      "Epoch 64/100\n",
      "1500/1500 [==============================] - 4s 3ms/step - loss: 0.5368 - accuracy: 0.8146 - val_loss: 0.5367 - val_accuracy: 0.8116\n",
      "Epoch 65/100\n",
      "1500/1500 [==============================] - 4s 3ms/step - loss: 0.5349 - accuracy: 0.8141 - val_loss: 0.5351 - val_accuracy: 0.8122\n",
      "Epoch 66/100\n",
      "1500/1500 [==============================] - 5s 3ms/step - loss: 0.5332 - accuracy: 0.8159 - val_loss: 0.5335 - val_accuracy: 0.8127\n",
      "Epoch 67/100\n",
      "1500/1500 [==============================] - 4s 3ms/step - loss: 0.5315 - accuracy: 0.8163 - val_loss: 0.5320 - val_accuracy: 0.8134\n",
      "Epoch 68/100\n",
      "1500/1500 [==============================] - 5s 3ms/step - loss: 0.5298 - accuracy: 0.8169 - val_loss: 0.5302 - val_accuracy: 0.8144\n",
      "Epoch 69/100\n",
      "1500/1500 [==============================] - 5s 3ms/step - loss: 0.5281 - accuracy: 0.8172 - val_loss: 0.5286 - val_accuracy: 0.8152\n",
      "Epoch 70/100\n",
      "1500/1500 [==============================] - 4s 3ms/step - loss: 0.5265 - accuracy: 0.8177 - val_loss: 0.5277 - val_accuracy: 0.8152\n",
      "Epoch 71/100\n",
      "1500/1500 [==============================] - 5s 3ms/step - loss: 0.5249 - accuracy: 0.8177 - val_loss: 0.5260 - val_accuracy: 0.8164\n",
      "Epoch 72/100\n",
      "1500/1500 [==============================] - 5s 3ms/step - loss: 0.5234 - accuracy: 0.8189 - val_loss: 0.5248 - val_accuracy: 0.8152\n",
      "Epoch 73/100\n",
      "1500/1500 [==============================] - 5s 3ms/step - loss: 0.5219 - accuracy: 0.8192 - val_loss: 0.5231 - val_accuracy: 0.8163\n",
      "Epoch 74/100\n",
      "1500/1500 [==============================] - 5s 3ms/step - loss: 0.5204 - accuracy: 0.8200 - val_loss: 0.5219 - val_accuracy: 0.8167\n",
      "Epoch 75/100\n",
      "1500/1500 [==============================] - 5s 3ms/step - loss: 0.5189 - accuracy: 0.8197 - val_loss: 0.5205 - val_accuracy: 0.8163\n",
      "Epoch 76/100\n",
      "1500/1500 [==============================] - 4s 3ms/step - loss: 0.5175 - accuracy: 0.8207 - val_loss: 0.5191 - val_accuracy: 0.8181\n",
      "Epoch 77/100\n",
      "1500/1500 [==============================] - 4s 3ms/step - loss: 0.5161 - accuracy: 0.8212 - val_loss: 0.5175 - val_accuracy: 0.8184\n",
      "Epoch 78/100\n",
      "1500/1500 [==============================] - 4s 3ms/step - loss: 0.5148 - accuracy: 0.8210 - val_loss: 0.5166 - val_accuracy: 0.8183\n",
      "Epoch 79/100\n",
      "1500/1500 [==============================] - 4s 3ms/step - loss: 0.5135 - accuracy: 0.8218 - val_loss: 0.5152 - val_accuracy: 0.8180\n",
      "Epoch 80/100\n",
      "1500/1500 [==============================] - 5s 3ms/step - loss: 0.5122 - accuracy: 0.8230 - val_loss: 0.5139 - val_accuracy: 0.8200\n",
      "Epoch 81/100\n",
      "1500/1500 [==============================] - 5s 3ms/step - loss: 0.5108 - accuracy: 0.8226 - val_loss: 0.5132 - val_accuracy: 0.8186\n",
      "Epoch 82/100\n",
      "1500/1500 [==============================] - 5s 3ms/step - loss: 0.5096 - accuracy: 0.8237 - val_loss: 0.5116 - val_accuracy: 0.8204\n",
      "Epoch 83/100\n",
      "1500/1500 [==============================] - 5s 3ms/step - loss: 0.5084 - accuracy: 0.8244 - val_loss: 0.5104 - val_accuracy: 0.8202\n",
      "Epoch 84/100\n",
      "1500/1500 [==============================] - 5s 3ms/step - loss: 0.5071 - accuracy: 0.8245 - val_loss: 0.5094 - val_accuracy: 0.8207\n",
      "Epoch 85/100\n",
      "1500/1500 [==============================] - 4s 3ms/step - loss: 0.5060 - accuracy: 0.8254 - val_loss: 0.5087 - val_accuracy: 0.8199\n",
      "Epoch 86/100\n",
      "1500/1500 [==============================] - 4s 3ms/step - loss: 0.5048 - accuracy: 0.8255 - val_loss: 0.5072 - val_accuracy: 0.8202\n",
      "Epoch 87/100\n",
      "1500/1500 [==============================] - 4s 3ms/step - loss: 0.5037 - accuracy: 0.8258 - val_loss: 0.5063 - val_accuracy: 0.8204\n",
      "Epoch 88/100\n",
      "1500/1500 [==============================] - 4s 3ms/step - loss: 0.5025 - accuracy: 0.8261 - val_loss: 0.5052 - val_accuracy: 0.8205\n",
      "Epoch 89/100\n",
      "1500/1500 [==============================] - 4s 3ms/step - loss: 0.5014 - accuracy: 0.8266 - val_loss: 0.5041 - val_accuracy: 0.8218\n",
      "Epoch 90/100\n",
      "1500/1500 [==============================] - 4s 3ms/step - loss: 0.5004 - accuracy: 0.8268 - val_loss: 0.5036 - val_accuracy: 0.8207\n",
      "Epoch 91/100\n",
      "1500/1500 [==============================] - 5s 3ms/step - loss: 0.4993 - accuracy: 0.8272 - val_loss: 0.5020 - val_accuracy: 0.8222\n",
      "Epoch 92/100\n",
      "1500/1500 [==============================] - 4s 3ms/step - loss: 0.4982 - accuracy: 0.8278 - val_loss: 0.5013 - val_accuracy: 0.8221\n",
      "Epoch 93/100\n",
      "1500/1500 [==============================] - 4s 3ms/step - loss: 0.4973 - accuracy: 0.8278 - val_loss: 0.5003 - val_accuracy: 0.8227\n",
      "Epoch 94/100\n",
      "1500/1500 [==============================] - 4s 3ms/step - loss: 0.4962 - accuracy: 0.8280 - val_loss: 0.4996 - val_accuracy: 0.8222\n",
      "Epoch 95/100\n",
      "1500/1500 [==============================] - 4s 3ms/step - loss: 0.4952 - accuracy: 0.8285 - val_loss: 0.4984 - val_accuracy: 0.8236\n",
      "Epoch 96/100\n",
      "1500/1500 [==============================] - 4s 3ms/step - loss: 0.4942 - accuracy: 0.8288 - val_loss: 0.4977 - val_accuracy: 0.8228\n",
      "Epoch 97/100\n",
      "1500/1500 [==============================] - 5s 3ms/step - loss: 0.4933 - accuracy: 0.8292 - val_loss: 0.4969 - val_accuracy: 0.8228\n",
      "Epoch 98/100\n",
      "1500/1500 [==============================] - 4s 3ms/step - loss: 0.4923 - accuracy: 0.8295 - val_loss: 0.4957 - val_accuracy: 0.8248\n",
      "Epoch 99/100\n",
      "1500/1500 [==============================] - 4s 3ms/step - loss: 0.4914 - accuracy: 0.8298 - val_loss: 0.4952 - val_accuracy: 0.8245\n",
      "Epoch 100/100\n",
      "1500/1500 [==============================] - 4s 3ms/step - loss: 0.4905 - accuracy: 0.8303 - val_loss: 0.4943 - val_accuracy: 0.8236\n"
     ]
    }
   ],
   "source": [
    "hist2 = model2.fit(norm_x_train,\n",
    "         y_train,\n",
    "         epochs=100,\n",
    "         verbose=1,\n",
    "         validation_split=0.2)"
   ]
  },
  {
   "cell_type": "code",
   "execution_count": null,
   "metadata": {},
   "outputs": [
    {
     "name": "stdout",
     "output_type": "stream",
     "text": [
      "313/313 [==============================] - 1s 2ms/step - loss: 0.5177 - accuracy: 0.8167\n"
     ]
    },
    {
     "data": {
      "text/plain": [
       "[0.5177412629127502, 0.8166999816894531]"
      ]
     },
     "execution_count": 94,
     "metadata": {},
     "output_type": "execute_result"
    }
   ],
   "source": [
    "model2.evaluate(norm_X_test,Y_test)"
   ]
  },
  {
   "cell_type": "code",
   "execution_count": null,
   "metadata": {},
   "outputs": [
    {
     "data": {
      "text/plain": [
       "<matplotlib.legend.Legend at 0x1a21c1f1bd0>"
      ]
     },
     "execution_count": 100,
     "metadata": {},
     "output_type": "execute_result"
    },
    {
     "data": {
      "image/png": "[encoded data removed]",
      "text/plain": [
       "<Figure size 640x480 with 2 Axes>"
      ]
     },
     "metadata": {},
     "output_type": "display_data"
    }
   ],
   "source": [
    "import matplotlib.pyplot as plt\n",
    "fig, loss_ax = plt.subplots()\n",
    "loss_ax.plot(hist2.history[\"loss\"], \"y\", label=\"train_loss\")\n",
    "loss_ax.plot(hist2.history[\"val_loss\"], \"r\", label=\"val_loss\")\n",
    "loss_ax.set_xlabel(\"epoch\")\n",
    "loss_ax.set_ylabel(\"loss\")\n",
    "loss_ax.legend(loc=\"upper left\")\n",
    "acc_ax = loss_ax.twinx()\n",
    "acc_ax.plot(hist2.history[\"accuracy\"], \"b\", label=\"train_acc\")\n",
    "acc_ax.plot(hist2.history[\"val_accuracy\"], \"g\", label=\"val_acc\")\n",
    "acc_ax.set_ylabel(\"accuracy\")\n",
    "acc_ax.legend(loc=\"lower left\")"
   ]
  }
 ],
 "metadata": {
  "kernelspec": {
   "display_name": "Python 3.10.7 64-bit",
   "language": "python",
   "name": "python3"
  },
  "language_info": {
   "codemirror_mode": {
    "name": "ipython",
    "version": 3
   },
   "file_extension": ".py",
   "mimetype": "text/x-python",
   "name": "python",
   "nbconvert_exporter": "python",
   "pygments_lexer": "ipython3",
   "version": "3.10.7"
  },
  "orig_nbformat": 4,
  "vscode": {
   "interpreter": {
    "hash": "e191b7f8a7ade697261a80d73a4145313c00cd250ab8fbf5731ef43dc12a84bd"
   }
  }
 },
 "nbformat": 4,
 "nbformat_minor": 2
}
